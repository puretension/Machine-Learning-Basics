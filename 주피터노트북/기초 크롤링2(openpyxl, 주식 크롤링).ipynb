{
 "cells": [
  {
   "attachments": {},
   "cell_type": "markdown",
   "metadata": {},
   "source": [
    "## 네이버 주식 현재가 정보 수집하기"
   ]
  },
  {
   "cell_type": "code",
   "execution_count": 1,
   "metadata": {},
   "outputs": [
    {
     "name": "stdout",
     "output_type": "stream",
     "text": [
      "69,800\n",
      "69800\n",
      "123,400\n",
      "123400\n",
      "51,300\n",
      "51300\n"
     ]
    }
   ],
   "source": [
    "import requests\n",
    "from bs4 import BeautifulSoup\n",
    "\n",
    "# 종목 코드 리스트\n",
    "codes = [\n",
    "    '005930',\n",
    "    '000660',\n",
    "    '035720'\n",
    "]\n",
    "\n",
    "for code in codes: \n",
    "    url = f\"https://finance.naver.com/item/sise.naver?code={code}\"\n",
    "    resp = requests.get(url)\n",
    "    html = resp.text # resp.text는 html코드 \n",
    "    soup = BeautifulSoup(html, 'html.parser')\n",
    "    price = soup.select_one(\"#_nowVal\").text # .text는 문자열정보만 가져옴\n",
    "    print(price)\n",
    "    price = price.replace(',','') # 정수로 변환해주기!\n",
    "    print(price)\n"
   ]
  },
  {
   "attachments": {},
   "cell_type": "markdown",
   "metadata": {},
   "source": [
    "## 파이썬 엑셀 다루기"
   ]
  },
  {
   "cell_type": "code",
   "execution_count": 19,
   "metadata": {},
   "outputs": [],
   "source": [
    "import openpyxl\n",
    "\n",
    "# 1) 엑셀 만들기\n",
    "wb = openpyxl.Workbook()\n",
    "\n",
    "# 2) 엑셀 워크시트 만들기\n",
    "ws = wb.create_sheet('오징어게임')\n",
    "\n",
    "# 3) 데이터 추가하기\n",
    "ws['A1'] = '참가번호'\n",
    "ws['B1'] = '성명'\n",
    "\n",
    "ws['A2'] = 1\n",
    "ws['B2'] = '오일남'\n",
    "\n",
    "# 4) 엑셀 저장하기\n",
    "# r을 붙임으로써 \\하나만해도 간편히 String 인식해줌\n",
    "wb.save(r'/Users/idohyeong/Desktop/PythonWorkspace/주피터노트북/참가자_data.xlsx')"
   ]
  },
  {
   "attachments": {},
   "cell_type": "markdown",
   "metadata": {},
   "source": [
    "## 엑셀 불러오기"
   ]
  },
  {
   "cell_type": "code",
   "execution_count": 21,
   "metadata": {},
   "outputs": [],
   "source": [
    "import openpyxl\n",
    "\n",
    "fpath = r'/Users/idohyeong/Desktop/PythonWorkspace/주피터노트북/참가자_data.xlsx'\n",
    "\n",
    "# 1) 엑셀 불러오기 \n",
    "wb = openpyxl.load_workbook(fpath)\n",
    "\n",
    "# 2) 엑셀 시트선택\n",
    "ws = wb['오징어게임']\n",
    "\n",
    "# 3) 데이터 수정하기 \n",
    "ws['A3'] = 456\n",
    "ws['B3'] = '성기훈'\n",
    "\n",
    "#4) 엑셀저장하기 \n",
    "wb.save(fpath)\n"
   ]
  },
  {
   "attachments": {},
   "cell_type": "markdown",
   "metadata": {},
   "source": [
    "### 주식 현재가 크롤링 데이터 저장해보기"
   ]
  },
  {
   "cell_type": "code",
   "execution_count": 1,
   "metadata": {},
   "outputs": [
    {
     "name": "stdout",
     "output_type": "stream",
     "text": [
      "69800\n",
      "123400\n",
      "51300\n"
     ]
    }
   ],
   "source": [
    "import requests\n",
    "from bs4 import BeautifulSoup\n",
    "import openpyxl\n",
    "\n",
    "# 엑셀 불러오기 \n",
    "fpath = r'/Users/idohyeong/Desktop/PythonWorkspace/주피터노트북/data.xlsx'\n",
    "wb = openpyxl.load_workbook(fpath)\n",
    "ws = wb.active # 현재 활성화된 시트 선택(기본 시트 : sheet1)\n",
    "\n",
    "# 종목 코드 리스트\n",
    "codes = [\n",
    "    '005930',\n",
    "    '000660',\n",
    "    '035720'\n",
    "]\n",
    "\n",
    "row = 2 # 행 번호\n",
    "\n",
    "for code in codes: \n",
    "    url = f\"https://finance.naver.com/item/sise.naver?code={code}\"\n",
    "    resp = requests.get(url)\n",
    "    html = resp.text # resp.text는 html코드 \n",
    "    soup = BeautifulSoup(html, 'html.parser')\n",
    "    price = soup.select_one(\"#_nowVal\").text # .text는 문자열정보만 가져옴\n",
    "    price = price.replace(',','') # 정수로 변환해주기!\n",
    "    print(price)\n",
    "    ws[f'B{row}'] = int(price)\n",
    "    row += 1\n",
    "\n",
    "wb.save(fpath)\n"
   ]
  }
 ],
 "metadata": {
  "kernelspec": {
   "display_name": "base",
   "language": "python",
   "name": "python3"
  },
  "language_info": {
   "codemirror_mode": {
    "name": "ipython",
    "version": 3
   },
   "file_extension": ".py",
   "mimetype": "text/x-python",
   "name": "python",
   "nbconvert_exporter": "python",
   "pygments_lexer": "ipython3",
   "version": "3.11.3 (main, Apr 19 2023, 18:49:55) [Clang 14.0.6 ]"
  },
  "orig_nbformat": 4,
  "vscode": {
   "interpreter": {
    "hash": "1da8bb1e470ff509bdae4e915df9bfc787d66424978116436e3017457e3e36c8"
   }
  }
 },
 "nbformat": 4,
 "nbformat_minor": 2
}
