{
 "cells": [
  {
   "attachments": {},
   "cell_type": "markdown",
   "metadata": {},
   "source": [
    "### requests 사용법\n"
   ]
  },
  {
   "cell_type": "code",
   "execution_count": 4,
   "metadata": {},
   "outputs": [
    {
     "name": "stdout",
     "output_type": "stream",
     "text": [
      "200\n"
     ]
    }
   ],
   "source": [
    "import requests\n",
    "# GET\n",
    "response = requests.get(\"https://www.naver.com\")\n",
    "print(response.status_code)\n"
   ]
  },
  {
   "cell_type": "code",
   "execution_count": 1,
   "metadata": {},
   "outputs": [
    {
     "name": "stdout",
     "output_type": "stream",
     "text": [
      "200\n",
      "https://section.blog.naver.com/Search/Post.nhn?pageNo=30&rangeType=ALL&orderBy=sim&keyword=%EC%9E%90%EB%B0%94\n"
     ]
    }
   ],
   "source": [
    "import requests\n",
    "\n",
    "url = 'https://section.blog.naver.com/Search/Post.nhn?pageNo=1&rangeType=ALL&orderBy=sim&keyword=%ED%8C%8C%EC%9D%B4%EC%8D%AC'\n",
    "\n",
    "params = {\n",
    "    'pageNo' : 30,\n",
    "    'rangeType' : 'ALL',\n",
    "    'orderBy' : 'sim',\n",
    "    'keyword' : '자바'\n",
    "}\n",
    "\n",
    "response = requests.get('https://section.blog.naver.com/Search/Post.nhn', params=params)\n",
    "\n",
    "print(response.status_code)\n",
    "print(response.url)\n"
   ]
  },
  {
   "attachments": {},
   "cell_type": "markdown",
   "metadata": {},
   "source": [
    "### beautifulsoup 사용법\n"
   ]
  },
  {
   "cell_type": "code",
   "execution_count": 35,
   "metadata": {},
   "outputs": [],
   "source": [
    "import requests\n",
    "from bs4 import BeautifulSoup\n",
    "\n",
    "url = 'https://kin.naver.com/search/list.nhn?query=%ED%8C%8C%EC%9D%B4%EC%8D%AC'\n",
    "# url GET\n",
    "response = requests.get(url)\n",
    "\n",
    "if response.status_code == 200:\n",
    "    # url에서 html전달해줌\n",
    "    html = response.text\n",
    "    # soup로 만듬\n",
    "    soup = BeautifulSoup(html, 'html.parser')\n",
    "    # print(soup)\n",
    "\n",
    "else : \n",
    "    print(response.status_code)"
   ]
  },
  {
   "cell_type": "code",
   "execution_count": 38,
   "metadata": {},
   "outputs": [
    {
     "name": "stdout",
     "output_type": "stream",
     "text": [
      "<a class=\"_nclicks:kin.txt _searchListTitleAnchor\" href=\"https://kin.naver.com/qna/detail.naver?d1id=1&amp;dirId=10401&amp;docId=448856831&amp;qb=7ZSM65+s7YSw&amp;enc=utf8§ion=kin&amp;rank=2&amp;search_sort=0&amp;spq=0\" target=\"_blank\"><b>플러터</b>로 앱 개발시 백엔드는 뭘 쓰나요?</a>\n"
     ]
    }
   ],
   "source": [
    "import requests\n",
    "from bs4 import BeautifulSoup\n",
    "\n",
    "url = 'https://kin.naver.com/search/list.naver?query=%ED%94%8C%EB%9F%AC%ED%84%B0'\n",
    "\n",
    "response = requests.get(url)\n",
    "\n",
    "if response.status_code == 200:\n",
    "    html = response.text\n",
    "    soup = BeautifulSoup(html, 'html.parser')\n",
    "    # select_one안에 copy selector 한값 붙여넣기!\n",
    "    title = soup.select_one('#s_content > div.section > ul > li:nth-child(2) > dl > dt > a')\n",
    "    print(title)\n",
    "else : \n",
    "    print(response.status_code)"
   ]
  },
  {
   "attachments": {},
   "cell_type": "markdown",
   "metadata": {},
   "source": [
    "### CSS란?\n",
    "- 웹사이트의 디자인을 표시하기 위한 언어 \n",
    "- 글자 색 변경, 폰트 크기, 가로 세로 길이 변경\n",
    "\n",
    "### CSS 선택자\n",
    "- 디자인을 변경할 HTML 태그(4종류중)를 선택하는 것\n",
    ": 크롤링할 HTML 태그를 선택하는것\n",
    "## CSS 선택자 종류\n",
    "- 태그(<>) 선택자 - 태그 이름으로 선택 ex) h1, a\n",
    "- id 선택자 ex) #articleBody\n",
    "- class 선택자  ex) .info_group\n",
    "- 자식 선택자 ex) .logo_sports > span\n",
    "원하는 태그에 별명이 없을때 사용\n",
    "\n"
   ]
  },
  {
   "attachments": {},
   "cell_type": "markdown",
   "metadata": {},
   "source": [
    "## 뉴스 제목과 링크 크롤링"
   ]
  },
  {
   "cell_type": "code",
   "execution_count": null,
   "metadata": {},
   "outputs": [],
   "source": [
    "import requests\n",
    "from bs4 import BeautifulSoup\n",
    "import pyautogui # 검색창 띄우기 가능\n",
    "\n",
    "# 검색어 해당부분은 query=\n",
    "# keyword = input(\"검색어를 입력하세요>>>\")\n",
    "keyword = pyautogui.prompt(\"검색어를 입력하세요>>>\")\n",
    "lastpage = pyautogui.prompt(\"마지막 페이지번호를 입력해 주세요\")\n",
    "# url = 'https://search.naver.com/search.naver?where=news&sm=tab_jum&query=' + keyword\n",
    "# url = f'https://search.naver.com/search.naver?where=news&sm=tab_jum&query={keyword}' # f출력, pyautogui로 검색시\n",
    "\n",
    "pageNum = 1\n",
    "for i in range(1,int(lastpage) * 10,10):\n",
    "    print(f\"{pageNum}페이지 입니다@@@@@@@@@@@@@@@@@@@@@@@@@@@@@@@@@@@@@@@@\")\n",
    "    url = f'https://search.naver.com/search.naver?where=news&sm=tab_jum&query={keyword}&start={i}'\n",
    "    response = requests.get(url)\n",
    "    html = response.text\n",
    "\n",
    "    soup = BeautifulSoup(html, 'html.parser')\n",
    "    links = soup.select(\".news_tit\") # 리스트. 1개가 넘으므로 select\n",
    "    print(links)\n",
    "\n",
    "    for link in links:\n",
    "        title = link.text # 태그 안에 텍스트요소를 가져온다\n",
    "        url = link.attrs['href'] # href의 속성값을 가져온다\n",
    "        print(title, url)\n",
    "    pageNum = pageNum + 1"
   ]
  },
  {
   "attachments": {},
   "cell_type": "markdown",
   "metadata": {},
   "source": [
    "### pyautogui\n",
    "- 마우스, 키보드 매크로라이브러리로 간단한 입력 창 띄우기 가능"
   ]
  },
  {
   "attachments": {},
   "cell_type": "markdown",
   "metadata": {},
   "source": [
    "## 여러 페이지 결과 모두 가져오기: 반복문\n",
    "\n",
    "### URL 분석하기\n",
    "- 1page -> 2page -> 3page\n",
    "\n",
    "start = 1,2,3,4....\n",
    "\n",
    "\n",
    "for i in range(시작, 끝, 단계):\n",
    "for i in range(1,10,2) -> 1,3,5,7,9"
   ]
  }
 ],
 "metadata": {
  "kernelspec": {
   "display_name": "base",
   "language": "python",
   "name": "python3"
  },
  "language_info": {
   "codemirror_mode": {
    "name": "ipython",
    "version": 3
   },
   "file_extension": ".py",
   "mimetype": "text/x-python",
   "name": "python",
   "nbconvert_exporter": "python",
   "pygments_lexer": "ipython3",
   "version": "3.11.3 (main, Apr 19 2023, 18:49:55) [Clang 14.0.6 ]"
  },
  "orig_nbformat": 4,
  "vscode": {
   "interpreter": {
    "hash": "1da8bb1e470ff509bdae4e915df9bfc787d66424978116436e3017457e3e36c8"
   }
  }
 },
 "nbformat": 4,
 "nbformat_minor": 2
}
