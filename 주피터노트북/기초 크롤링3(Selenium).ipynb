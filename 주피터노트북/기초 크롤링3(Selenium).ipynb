{
 "cells": [
  {
   "attachments": {},
   "cell_type": "markdown",
   "metadata": {},
   "source": [
    "## Selenium"
   ]
  },
  {
   "cell_type": "code",
   "execution_count": 1,
   "metadata": {},
   "outputs": [],
   "source": [
    "from selenium import webdriver\n",
    "from selenium.webdriver.chrome.service import Service\n",
    "from selenium.webdriver.chrome.options import Options\n",
    "\n",
    "chrome_options = Options()\n",
    "\n",
    "# 필수\n",
    "chrome_options.binary_location = \"/Applications/Google Chrome.app/Contents/MacOS/Google Chrome\"\n",
    "# 크롬 브라우저 꺼짐 방지\n",
    "chrome_options.add_experimental_option(\"detach\", True)\n",
    "# 불필요한 에러 메시지 없애기\n",
    "chrome_options.add_experimental_option(\"excludeSwitches\", [\"enable-logging\"])\n",
    "\n",
    "# ChromeDriverManager 대신 직접 경로 지정\n",
    "service = Service(executable_path=\"/opt/homebrew/bin/chromedriver\")\n",
    "driver = webdriver.Chrome(service=service, options=chrome_options)\n",
    "\n",
    "# 웹 페이지 해당 주소 이동\n",
    "driver.get(\"https://www.naver.com\")\n"
   ]
  },
  {
   "attachments": {},
   "cell_type": "markdown",
   "metadata": {},
   "source": [
    "### 네이버 자동로그인하기"
   ]
  },
  {
   "cell_type": "code",
   "execution_count": 10,
   "metadata": {},
   "outputs": [],
   "source": [
    "from selenium import webdriver\n",
    "from selenium.webdriver.chrome.service import Service\n",
    "from selenium.webdriver.chrome.options import Options\n",
    "from selenium.webdriver.common.by import By\n",
    "\n",
    "chrome_options = Options()\n",
    "\n",
    "from webdriver_manager.chrome import ChromeDriverManager\n",
    "\n",
    "# 키보드 입력 위함(자동화)\n",
    "import time\n",
    "import pyautogui\n",
    "import pyperclip\n",
    "\n",
    "# 필수\n",
    "chrome_options.binary_location = \"/Applications/Google Chrome.app/Contents/MacOS/Google Chrome\"\n",
    "# 크롬 브라우저 꺼짐 방지\n",
    "chrome_options.add_experimental_option(\"detach\", True)\n",
    "# 불필요한 에러 메시지 없애기\n",
    "chrome_options.add_experimental_option(\"excludeSwitches\", [\"enable-logging\"])\n",
    "\n",
    "# ChromeDriverManager 대신 직접 경로 지정\n",
    "service = Service(executable_path=\"/opt/homebrew/bin/chromedriver\")\n",
    "driver = webdriver.Chrome(service=service, options=chrome_options)\n",
    "\n",
    "#웹페이지 해당 주소 이동\n",
    "driver.implicitly_wait(3) #웹페이지가 로딩될때까지 5초는 기다림 \n",
    "driver.maximize_window() # 화면 최대화\n",
    "driver.get(\"https://nid.naver.com/nidlogin.login?mode=form&url=https://www.naver.com/\")\n",
    "\n",
    "# 아이디 입력창\n",
    "id = driver.find_element(By.CSS_SELECTOR, \"#id\") \n",
    "id.click()\n",
    "# id.send_keys(\"underkrya\") # 너무 빨리 입력되서 에러\n",
    "pyperclip.copy(\"underkrya\") \n",
    "pyautogui.hotkey('command', 'v') # mac은 cmd\n",
    "time.sleep(2)\n",
    "\n",
    "\n",
    "# 비밀번호 입력창\n",
    "pw = driver.find_element(By.CSS_SELECTOR, \"#pw\") \n",
    "pw.click()\n",
    "# pw.send_keys(\"8829705x@\")\n",
    "pyperclip.copy(\"dlehgud123@\")\n",
    "pyautogui.hotkey('command', 'v')\n",
    "time.sleep(1)\n",
    "# 자동 로그인 버튼\n",
    "auto_button = driver.find_element(By.CSS_SELECTOR, \"#login_keep_wrap > div.keep_check > label\")\n",
    "auto_button.click()\n",
    "time.sleep(1)\n",
    "# 로그인 버튼\n",
    "login_btn = driver.find_element(By.CSS_SELECTOR, '#log\\.login')\n",
    "login_btn.click()\n",
    "\n",
    "\n"
   ]
  }
 ],
 "metadata": {
  "kernelspec": {
   "display_name": "base",
   "language": "python",
   "name": "python3"
  },
  "language_info": {
   "codemirror_mode": {
    "name": "ipython",
    "version": 3
   },
   "file_extension": ".py",
   "mimetype": "text/x-python",
   "name": "python",
   "nbconvert_exporter": "python",
   "pygments_lexer": "ipython3",
   "version": "3.11.3 (main, Apr 19 2023, 18:49:55) [Clang 14.0.6 ]"
  },
  "orig_nbformat": 4,
  "vscode": {
   "interpreter": {
    "hash": "1da8bb1e470ff509bdae4e915df9bfc787d66424978116436e3017457e3e36c8"
   }
  }
 },
 "nbformat": 4,
 "nbformat_minor": 2
}
