{
 "cells": [
  {
   "attachments": {},
   "cell_type": "markdown",
   "metadata": {},
   "source": [
    "## 상품정보 크롤링하기\n",
    "- 쇼핑 사이트에서 상품정보 크롤링해서 엑셀에 저장\n",
    "- 경쟁사 분석 - 쇼핑몰 운영자, 마케팅 관련 종사자"
   ]
  },
  {
   "attachments": {},
   "cell_type": "markdown",
   "metadata": {},
   "source": [
    "### requests 한계 - 셀레니움 사용하는 이유\n",
    "- 로그인이 필요한 사이트\n",
    "- 동적으로 HTML을 만드는 경우(필요한 부분만 바꾸고 싶을때)\n"
   ]
  },
  {
   "attachments": {},
   "cell_type": "markdown",
   "metadata": {},
   "source": [
    "### 동적으로 HTML 만드는 경우\n",
    "- 스크롤하거나 클릭하면 데이터가 생성됨\n",
    "- URL 주소가 변경되지 않았는데 데이터가 변함\n",
    "- 표, 테이블 형태의 데이터"
   ]
  },
  {
   "cell_type": "markdown",
   "metadata": {},
   "source": [
    "### 셀레니움이란?\n",
    "- 웹 어플리케이션 도구로 실제 사람이 동작하는거처럼 보임 "
   ]
  },
  {
   "attachments": {},
   "cell_type": "markdown",
   "metadata": {},
   "source": [
    "### 네이버 쇼핑 크롤링"
   ]
  },
  {
   "cell_type": "code",
   "execution_count": 2,
   "metadata": {},
   "outputs": [
    {
     "ename": "NoSuchWindowException",
     "evalue": "Message: no such window: target window already closed\nfrom unknown error: web view not found\n  (Session info: chrome=115.0.5790.114)\nStacktrace:\n0   chromedriver                        0x0000000102ede924 chromedriver + 4303140\n1   chromedriver                        0x0000000102ed7050 chromedriver + 4272208\n2   chromedriver                        0x0000000102b0b328 chromedriver + 291624\n3   chromedriver                        0x0000000102ae2fd0 chromedriver + 126928\n4   chromedriver                        0x0000000102b6e4ec chromedriver + 697580\n5   chromedriver                        0x0000000102b80c4c chromedriver + 773196\n6   chromedriver                        0x0000000102b3c8d4 chromedriver + 493780\n7   chromedriver                        0x0000000102b3d71c chromedriver + 497436\n8   chromedriver                        0x0000000102e9f7dc chromedriver + 4044764\n9   chromedriver                        0x0000000102ea3d20 chromedriver + 4062496\n10  chromedriver                        0x0000000102ea9f40 chromedriver + 4087616\n11  chromedriver                        0x0000000102ea4824 chromedriver + 4065316\n12  chromedriver                        0x0000000102e7cd1c chromedriver + 3902748\n13  chromedriver                        0x0000000102ec0414 chromedriver + 4178964\n14  chromedriver                        0x0000000102ec056c chromedriver + 4179308\n15  chromedriver                        0x0000000102ed0830 chromedriver + 4245552\n16  libsystem_pthread.dylib             0x000000018800ffa8 _pthread_start + 148\n17  libsystem_pthread.dylib             0x000000018800ada0 thread_start + 8\n",
     "output_type": "error",
     "traceback": [
      "\u001b[0;31m---------------------------------------------------------------------------\u001b[0m",
      "\u001b[0;31mNoSuchWindowException\u001b[0m                     Traceback (most recent call last)",
      "Cell \u001b[0;32mIn[2], line 41\u001b[0m\n\u001b[1;32m     39\u001b[0m time\u001b[39m.\u001b[39msleep(\u001b[39m10\u001b[39m)\n\u001b[1;32m     40\u001b[0m \u001b[39m# 검색창 클릭\u001b[39;00m\n\u001b[0;32m---> 41\u001b[0m search \u001b[39m=\u001b[39m driver\u001b[39m.\u001b[39mfind_element(By\u001b[39m.\u001b[39mTAG_NAME, \u001b[39m\"\u001b[39m\u001b[39m검색어 입력\u001b[39m\u001b[39m\"\u001b[39m)\n\u001b[1;32m     42\u001b[0m search\u001b[39m.\u001b[39mclick()\n\u001b[1;32m     43\u001b[0m time\u001b[39m.\u001b[39msleep(\u001b[39m10\u001b[39m)\n",
      "File \u001b[0;32m~/anaconda3/lib/python3.11/site-packages/selenium/webdriver/remote/webdriver.py:740\u001b[0m, in \u001b[0;36mWebDriver.find_element\u001b[0;34m(self, by, value)\u001b[0m\n\u001b[1;32m    737\u001b[0m     by \u001b[39m=\u001b[39m By\u001b[39m.\u001b[39mCSS_SELECTOR\n\u001b[1;32m    738\u001b[0m     value \u001b[39m=\u001b[39m \u001b[39mf\u001b[39m\u001b[39m'\u001b[39m\u001b[39m[name=\u001b[39m\u001b[39m\"\u001b[39m\u001b[39m{\u001b[39;00mvalue\u001b[39m}\u001b[39;00m\u001b[39m\"\u001b[39m\u001b[39m]\u001b[39m\u001b[39m'\u001b[39m\n\u001b[0;32m--> 740\u001b[0m \u001b[39mreturn\u001b[39;00m \u001b[39mself\u001b[39m\u001b[39m.\u001b[39mexecute(Command\u001b[39m.\u001b[39mFIND_ELEMENT, {\u001b[39m\"\u001b[39m\u001b[39musing\u001b[39m\u001b[39m\"\u001b[39m: by, \u001b[39m\"\u001b[39m\u001b[39mvalue\u001b[39m\u001b[39m\"\u001b[39m: value})[\u001b[39m\"\u001b[39m\u001b[39mvalue\u001b[39m\u001b[39m\"\u001b[39m]\n",
      "File \u001b[0;32m~/anaconda3/lib/python3.11/site-packages/selenium/webdriver/remote/webdriver.py:346\u001b[0m, in \u001b[0;36mWebDriver.execute\u001b[0;34m(self, driver_command, params)\u001b[0m\n\u001b[1;32m    344\u001b[0m response \u001b[39m=\u001b[39m \u001b[39mself\u001b[39m\u001b[39m.\u001b[39mcommand_executor\u001b[39m.\u001b[39mexecute(driver_command, params)\n\u001b[1;32m    345\u001b[0m \u001b[39mif\u001b[39;00m response:\n\u001b[0;32m--> 346\u001b[0m     \u001b[39mself\u001b[39m\u001b[39m.\u001b[39merror_handler\u001b[39m.\u001b[39mcheck_response(response)\n\u001b[1;32m    347\u001b[0m     response[\u001b[39m\"\u001b[39m\u001b[39mvalue\u001b[39m\u001b[39m\"\u001b[39m] \u001b[39m=\u001b[39m \u001b[39mself\u001b[39m\u001b[39m.\u001b[39m_unwrap_value(response\u001b[39m.\u001b[39mget(\u001b[39m\"\u001b[39m\u001b[39mvalue\u001b[39m\u001b[39m\"\u001b[39m, \u001b[39mNone\u001b[39;00m))\n\u001b[1;32m    348\u001b[0m     \u001b[39mreturn\u001b[39;00m response\n",
      "File \u001b[0;32m~/anaconda3/lib/python3.11/site-packages/selenium/webdriver/remote/errorhandler.py:245\u001b[0m, in \u001b[0;36mErrorHandler.check_response\u001b[0;34m(self, response)\u001b[0m\n\u001b[1;32m    243\u001b[0m         alert_text \u001b[39m=\u001b[39m value[\u001b[39m\"\u001b[39m\u001b[39malert\u001b[39m\u001b[39m\"\u001b[39m]\u001b[39m.\u001b[39mget(\u001b[39m\"\u001b[39m\u001b[39mtext\u001b[39m\u001b[39m\"\u001b[39m)\n\u001b[1;32m    244\u001b[0m     \u001b[39mraise\u001b[39;00m exception_class(message, screen, stacktrace, alert_text)  \u001b[39m# type: ignore[call-arg]  # mypy is not smart enough here\u001b[39;00m\n\u001b[0;32m--> 245\u001b[0m \u001b[39mraise\u001b[39;00m exception_class(message, screen, stacktrace)\n",
      "\u001b[0;31mNoSuchWindowException\u001b[0m: Message: no such window: target window already closed\nfrom unknown error: web view not found\n  (Session info: chrome=115.0.5790.114)\nStacktrace:\n0   chromedriver                        0x0000000102ede924 chromedriver + 4303140\n1   chromedriver                        0x0000000102ed7050 chromedriver + 4272208\n2   chromedriver                        0x0000000102b0b328 chromedriver + 291624\n3   chromedriver                        0x0000000102ae2fd0 chromedriver + 126928\n4   chromedriver                        0x0000000102b6e4ec chromedriver + 697580\n5   chromedriver                        0x0000000102b80c4c chromedriver + 773196\n6   chromedriver                        0x0000000102b3c8d4 chromedriver + 493780\n7   chromedriver                        0x0000000102b3d71c chromedriver + 497436\n8   chromedriver                        0x0000000102e9f7dc chromedriver + 4044764\n9   chromedriver                        0x0000000102ea3d20 chromedriver + 4062496\n10  chromedriver                        0x0000000102ea9f40 chromedriver + 4087616\n11  chromedriver                        0x0000000102ea4824 chromedriver + 4065316\n12  chromedriver                        0x0000000102e7cd1c chromedriver + 3902748\n13  chromedriver                        0x0000000102ec0414 chromedriver + 4178964\n14  chromedriver                        0x0000000102ec056c chromedriver + 4179308\n15  chromedriver                        0x0000000102ed0830 chromedriver + 4245552\n16  libsystem_pthread.dylib             0x000000018800ffa8 _pthread_start + 148\n17  libsystem_pthread.dylib             0x000000018800ada0 thread_start + 8\n"
     ]
    }
   ],
   "source": [
    "from selenium import webdriver\n",
    "from selenium.webdriver.chrome.service import Service\n",
    "from selenium.webdriver.chrome.options import Options\n",
    "from selenium.webdriver.common.by import By\n",
    "\n",
    "from selenium.webdriver.common.keys import Keys\n",
    "\n",
    "chrome_options = Options()\n",
    "\n",
    "from webdriver_manager.chrome import ChromeDriverManager\n",
    "\n",
    "# 키보드 입력 위함(자동화)\n",
    "import time\n",
    "import pyautogui\n",
    "import pyperclip\n",
    "\n",
    "# 필수\n",
    "chrome_options.binary_location = \"/Applications/Google Chrome.app/Contents/MacOS/Google Chrome\"\n",
    "# 크롬 브라우저 꺼짐 방지\n",
    "chrome_options.add_experimental_option(\"detach\", True)\n",
    "# 불필요한 에러 메시지 없애기\n",
    "chrome_options.add_experimental_option(\"excludeSwitches\", [\"enable-logging\"])\n",
    "\n",
    "# ChromeDriverManager 대신 직접 경로 지정\n",
    "service = Service(executable_path=\"/opt/homebrew/bin/chromedriver\")\n",
    "driver = webdriver.Chrome(service=service, options=chrome_options)\n",
    "\n",
    "#웹페이지 해당 주소 이동\n",
    "driver.implicitly_wait(3) #웹페이지가 로딩될때까지 5초는 기다림 \n",
    "driver.maximize_window() # 화면 최대화\n",
    "\n",
    "driver.get('https://www.naver.com')\n",
    "driver.implicitly_wait(10)\n",
    "\n",
    "# 쇼핑 메뉴 클릭\n",
    "login_btn = driver.find_element(By.CSS_SELECTOR, '#shortcutArea > ul > li:nth-child(4) > a > span.service_name')\n",
    "login_btn.click()\n",
    "\n",
    "time.sleep(10)\n",
    "# 검색창 클릭\n",
    "search = driver.find_element(By.TAG_NAME, \"#gnb_login_button > span.gnb_txt\")\n",
    "search.click()\n",
    "time.sleep(10)\n",
    "\n",
    "\n",
    "search.send_keys('아이폰 13')\n",
    "search.send_keys(Keys.ENTER)\n"
   ]
  },
  {
   "cell_type": "code",
   "execution_count": null,
   "metadata": {},
   "outputs": [],
   "source": []
  }
 ],
 "metadata": {
  "kernelspec": {
   "display_name": "base",
   "language": "python",
   "name": "python3"
  },
  "language_info": {
   "codemirror_mode": {
    "name": "ipython",
    "version": 3
   },
   "file_extension": ".py",
   "mimetype": "text/x-python",
   "name": "python",
   "nbconvert_exporter": "python",
   "pygments_lexer": "ipython3",
   "version": "3.11.3"
  },
  "orig_nbformat": 4,
  "vscode": {
   "interpreter": {
    "hash": "1da8bb1e470ff509bdae4e915df9bfc787d66424978116436e3017457e3e36c8"
   }
  }
 },
 "nbformat": 4,
 "nbformat_minor": 2
}
