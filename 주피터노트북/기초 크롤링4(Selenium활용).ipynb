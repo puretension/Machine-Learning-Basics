{
 "cells": [
  {
   "attachments": {},
   "cell_type": "markdown",
   "metadata": {},
   "source": [
    "## 상품정보 크롤링하기\n",
    "- 쇼핑 사이트에서 상품정보 크롤링해서 엑셀에 저장\n",
    "- 경쟁사 분석 - 쇼핑몰 운영자, 마케팅 관련 종사자"
   ]
  },
  {
   "attachments": {},
   "cell_type": "markdown",
   "metadata": {},
   "source": [
    "### requests 한계 - 셀레니움 사용하는 이유\n",
    "- 로그인이 필요한 사이트\n",
    "- 동적으로 HTML을 만드는 경우(필요한 부분만 바꾸고 싶을때)\n"
   ]
  },
  {
   "attachments": {},
   "cell_type": "markdown",
   "metadata": {},
   "source": [
    "### 동적으로 HTML 만드는 경우\n",
    "- 스크롤하거나 클릭하면 데이터가 생성됨\n",
    "- URL 주소가 변경되지 않았는데 데이터가 변함\n",
    "- 표, 테이블 형태의 데이터"
   ]
  },
  {
   "cell_type": "markdown",
   "metadata": {},
   "source": [
    "### 셀레니움이란?\n",
    "- 웹 어플리케이션 도구로 실제 사람이 동작하는거처럼 보임 "
   ]
  },
  {
   "attachments": {},
   "cell_type": "markdown",
   "metadata": {},
   "source": [
    "### 네이버 쇼핑 크롤링, 검색창 검색"
   ]
  },
  {
   "cell_type": "code",
   "execution_count": 1,
   "metadata": {},
   "outputs": [],
   "source": [
    "from selenium import webdriver\n",
    "from selenium.webdriver.chrome.service import Service\n",
    "from selenium.webdriver.chrome.options import Options\n",
    "from selenium.webdriver.common.by import By\n",
    "\n",
    "from selenium.webdriver.common.keys import Keys\n",
    "\n",
    "chrome_options = Options()\n",
    "\n",
    "from webdriver_manager.chrome import ChromeDriverManager\n",
    "\n",
    "# 키보드 입력 위함(자동화)\n",
    "import time\n",
    "import pyautogui\n",
    "import pyperclip\n",
    "\n",
    "# 필수\n",
    "chrome_options.binary_location = \"/Applications/Google Chrome.app/Contents/MacOS/Google Chrome\"\n",
    "# 크롬 브라우저 꺼짐 방지\n",
    "chrome_options.add_experimental_option(\"detach\", True)\n",
    "# 불필요한 에러 메시지 없애기\n",
    "chrome_options.add_experimental_option(\"excludeSwitches\", [\"enable-logging\"])\n",
    "\n",
    "# ChromeDriverManager 대신 직접 경로 지정\n",
    "service = Service(executable_path=\"/opt/homebrew/bin/chromedriver\")\n",
    "driver = webdriver.Chrome(service=service, options=chrome_options)\n",
    "\n",
    "#웹페이지 해당 주소 이동\n",
    "driver.implicitly_wait(3) #웹페이지가 로딩될때까지 5초는 기다림 \n",
    "driver.maximize_window() # 화면 최대화\n",
    "\n",
    "driver.get('https://www.naver.com')\n",
    "# # 쇼핑 메뉴 클릭\n",
    "# login_btn = driver.find_element(By.CSS_SELECTOR, '#shortcutArea > ul > li:nth-child(4) > a > span.service_name')\n",
    "# login_btn.click()\n",
    "time.sleep(1)\n",
    "# 검색창 클릭후 아이폰 13 검색\n",
    "search = driver.find_element(By.CSS_SELECTOR, \"#query\")\n",
    "search.click()\n",
    "time.sleep(1)\n",
    "\n",
    "pyperclip.copy(\"아이폰 13\") \n",
    "pyautogui.hotkey('command', 'v') # mac은 cmd\n",
    "search.send_keys(Keys.ENTER)\n"
   ]
  }
 ],
 "metadata": {
  "kernelspec": {
   "display_name": "base",
   "language": "python",
   "name": "python3"
  },
  "language_info": {
   "codemirror_mode": {
    "name": "ipython",
    "version": 3
   },
   "file_extension": ".py",
   "mimetype": "text/x-python",
   "name": "python",
   "nbconvert_exporter": "python",
   "pygments_lexer": "ipython3",
   "version": "3.11.3 (main, Apr 19 2023, 18:49:55) [Clang 14.0.6 ]"
  },
  "orig_nbformat": 4,
  "vscode": {
   "interpreter": {
    "hash": "1da8bb1e470ff509bdae4e915df9bfc787d66424978116436e3017457e3e36c8"
   }
  }
 },
 "nbformat": 4,
 "nbformat_minor": 2
}
