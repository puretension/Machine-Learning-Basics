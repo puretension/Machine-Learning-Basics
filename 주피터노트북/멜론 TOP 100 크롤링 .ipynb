{
 "cells": [
  {
   "cell_type": "code",
   "execution_count": 1,
   "metadata": {},
   "outputs": [
    {
     "ename": "ImportError",
     "evalue": "cannot import name 'Service' from 'webdriver_manager.chrome' (/Users/idohyeong/anaconda3/lib/python3.11/site-packages/webdriver_manager/chrome.py)",
     "output_type": "error",
     "traceback": [
      "\u001b[0;31m---------------------------------------------------------------------------\u001b[0m",
      "\u001b[0;31mImportError\u001b[0m                               Traceback (most recent call last)",
      "Cell \u001b[0;32mIn[1], line 7\u001b[0m\n\u001b[1;32m      5\u001b[0m \u001b[39mfrom\u001b[39;00m \u001b[39mselenium\u001b[39;00m\u001b[39m.\u001b[39;00m\u001b[39mwebdriver\u001b[39;00m\u001b[39m.\u001b[39;00m\u001b[39mchrome\u001b[39;00m\u001b[39m.\u001b[39;00m\u001b[39mservice\u001b[39;00m \u001b[39mimport\u001b[39;00m Service\n\u001b[1;32m      6\u001b[0m \u001b[39mfrom\u001b[39;00m \u001b[39mselenium\u001b[39;00m\u001b[39m.\u001b[39;00m\u001b[39mwebdriver\u001b[39;00m\u001b[39m.\u001b[39;00m\u001b[39mchrome\u001b[39;00m\u001b[39m.\u001b[39;00m\u001b[39moptions\u001b[39;00m \u001b[39mimport\u001b[39;00m Options\n\u001b[0;32m----> 7\u001b[0m \u001b[39mfrom\u001b[39;00m \u001b[39mwebdriver_manager\u001b[39;00m\u001b[39m.\u001b[39;00m\u001b[39mchrome\u001b[39;00m \u001b[39mimport\u001b[39;00m Service\n\u001b[1;32m      8\u001b[0m \u001b[39mimport\u001b[39;00m \u001b[39mchromedriver_autoinstaller\u001b[39;00m\n\u001b[1;32m      9\u001b[0m \u001b[39mimport\u001b[39;00m \u001b[39mtime\u001b[39;00m\n",
      "\u001b[0;31mImportError\u001b[0m: cannot import name 'Service' from 'webdriver_manager.chrome' (/Users/idohyeong/anaconda3/lib/python3.11/site-packages/webdriver_manager/chrome.py)"
     ]
    }
   ],
   "source": [
    "import os\n",
    "import pandas as pd\n",
    "from selenium import webdriver\n",
    "from selenium.webdriver.common.by import By\n",
    "from selenium.webdriver.chrome.service import Service\n",
    "from selenium.webdriver.chrome.options import Options\n",
    "from webdriver_manager.chrome import Service\n",
    "import chromedriver_autoinstaller\n",
    "import time\n",
    "from selenium.webdriver.common.keys import Keys\n",
    "\n",
    "chromedriver_autoinstaller.install\n",
    "\n",
    "browser = webdriver.Chrome()\n",
    "url = 'https://www.naver.com/'\n",
    "\n",
    "browser.get(url)\n",
    "time.sleep(1)\n",
    "browser.find_element(By.CSS_SELECTOR,'#shortcutArea > ul > li:nth-child(4) > a').click()\n",
    "time.sleep(1)\n",
    "\n",
    "url = 'https://search.shopping.naver.com/search/all?query=&cat_id=&frm=NVSHATC'\n",
    "\n",
    "browser.get(url)\n",
    "time.sleep(1)\n",
    "# 검색창 클릭\n",
    "search = browser.find_element(By.CLASS_NAME,'_searchInput_search_text_3CUDs')\n",
    "search.click()\n",
    "search.send_keys('아이폰 13')\n",
    "search.send_keys(Keys.ENTER)\n",
    "\n",
    "\n"
   ]
  },
  {
   "cell_type": "code",
   "execution_count": 18,
   "metadata": {},
   "outputs": [
    {
     "name": "stderr",
     "output_type": "stream",
     "text": [
      "The chromedriver version (115.0.5790.102) detected in PATH at /opt/homebrew/bin/chromedriver might not be compatible with the detected chrome version (115.0.5790.170); currently, chromedriver 115.0.5790.170 is recommended for chrome 115.*, so it is advised to delete the driver in PATH and retry\n"
     ]
    }
   ],
   "source": [
    "import os\n",
    "import pandas as pd\n",
    "from selenium import webdriver\n",
    "from selenium.webdriver.common.by import By\n",
    "from selenium.webdriver.chrome.service import Service\n",
    "from selenium.webdriver.chrome.options import Options\n",
    "from webdriver_manager.chrome import ChromeDriverManager\n",
    "import time\n",
    "from selenium.webdriver.common.keys import Keys\n",
    "\n",
    "options = Options()\n",
    "\n",
    "url = \"https://naver.com\"\n",
    "\n",
    "browser = webdriver.Chrome()\n",
    "browser.get(url)\n",
    "\n",
    "time.sleep(1)\n",
    "\n",
    "\"\"\"\n",
    "<input id=\"query\" name=\"query\" type=\"search\" title=\"검색어를 입력해 주세요.\" \n",
    "placeholder=\"검색어를 입력해 주세요.\" maxlength=\"255\" autocomplete=\"off\"\n",
    " class=\"search_input\" data-atcmp-element=\"\">\n",
    "\"\"\"\n",
    "\n",
    "browser.find_element(By.CLASS_NAME, \"search_input\").send_keys(\"블랙핑크\")\n",
    "time.sleep(1)\n",
    "browser.find_element(By.ID, \"query\").send_keys(\"뉴진스\")\n",
    "time.sleep(1)\n",
    "browser.find_element(By.NAME, \"query\").send_keys(\"아이브\")\n",
    "time.sleep(1)\n",
    "# id는 #query, class 는 .input_text\n",
    "browser.find_element(By.CSS_SELECTOR, \"[title='검색어를 입력해 주세요.']\").send_keys(\"트와이스\")\n",
    "time.sleep(1)\n",
    "browser.find_element(By.XPATH,'//*[@id=\"query\"]').send_keys(\"췤\")\n",
    "\n",
    "\n",
    "\n"
   ]
  },
  {
   "attachments": {},
   "cell_type": "markdown",
   "metadata": {},
   "source": [
    "### MELON TOP 100 크롤링"
   ]
  },
  {
   "cell_type": "code",
   "execution_count": 34,
   "metadata": {},
   "outputs": [
    {
     "name": "stdout",
     "output_type": "stream",
     "text": [
      "<bound method Response.raise_for_status of <Response [200]>>\n",
      "50\n",
      "50\n"
     ]
    }
   ],
   "source": [
    "# import pandas as pd\n",
    "# from selenium import webdriver\n",
    "# from selenium.webdriver.common.by import By\n",
    "from bs4 import BeautifulSoup\n",
    "import requests\n",
    "import csv\n",
    "from urllib.request import urlopen\n",
    "from urllib.parse import quote_plus\n",
    "\n",
    "\n",
    "url = 'https://www.melon.com/chart/index.htm'\n",
    "\n",
    "headers = {\n",
    "    \"User-Agent\": \"Mozilla/5.0 (Macintosh; Intel Mac OS X 10_15_7) AppleWebKit/537.36 (KHTML, like Gecko) Chrome/115.0.0.0 Safari/537.36\"\n",
    "}\n",
    "r = requests.get(url, headers=headers)\n",
    "print(r.raise_for_status)\n",
    "\n",
    "html = r.text\n",
    "soup = BeautifulSoup(html, \"html.parser\")\n",
    "\n",
    "# title = soup.select_one(\".ellipsis.rank01 a\")\n",
    "# print(title.text)\n",
    "# singer = soup.select_one(\".ellipsis.rank02 > a\") # 직계 자손 \n",
    "# print(singer.text)\n",
    "# album = soup.select_one(\".ellipsis.rank03 > a\")\n",
    "# print(album.text)\n",
    "\n",
    "lst50 = soup.select(\"#lst50\")\n",
    "print(len(lst50))\n",
    "\n",
    "lst100 = soup.select(\"#lst100\")\n",
    "print(len(lst100))\n",
    "\n",
    "lst = lst50 + lst100 # list 덧셈\n",
    "\n",
    "temp = []\n",
    "searchList = []\n",
    "\n",
    "temp.append('순위')\n",
    "temp.append('곡제목')\n",
    "temp.append('가수명')\n",
    "temp.append('앨범명')\n",
    "searchList.append(temp)\n",
    "\n",
    "for e,i in enumerate(lst,1):\n",
    "    temp = []\n",
    "    # print(f\"<<{e}위>>\")\n",
    "    temp.append(f\"<<{e}위>>\")\n",
    "    title = i.select_one(\".ellipsis.rank01 a\")\n",
    "    temp.append(title.text)\n",
    "    # print(title.text)\n",
    "    singer = i.select_one(\".ellipsis.rank02 > a\")\n",
    "    temp.append(singer.text)\n",
    "    # print(singer.text)\n",
    "    singers = i.select(\".ellipsis.rank02 > a\")\n",
    "    # for singer in singers:\n",
    "    #     print(singer.text)\n",
    "    album = i.select_one(\".ellipsis.rank03 > a\")\n",
    "    temp.append(album.text)\n",
    "    searchList.append(temp)\n",
    "    # print()\n",
    "\n",
    "\n",
    "f = open('melon.csv', 'w', encoding='utf-8', newline='')\n",
    "csvWriter = csv.writer(f)\n",
    "\n",
    "for i in searchList:\n",
    "    csvWriter.writerow(i)\n",
    "\n",
    "f.close()\n",
    "\n",
    "#     # 6. 파일 저장하기\n",
    "#     # 첫 페이지만 Header(종목명/현재가/....)넣고 2p부터는 랭크만 뜨게끔\n",
    "#     import os\n",
    "\n",
    "#     f_name = 'sise.csv'\n",
    "#     if os.path.exists(f_name): # 파일이 있다면? 헤더 제외 \n",
    "#         df.to_csv(f_name, encoding='utf-8-sig', index= False, mode='a', header=False)\n",
    "#     else: # 최초의 파일이 없다면? 헤더포함, append도 자동적으로 됨\n",
    "#         df.to_csv(f_name, encoding='utf-8-sig', index= False)\n",
    "#     print(f'{idx}페이지 완료')\n",
    "# browser.quit() # 브라우저 종료\n"
   ]
  },
  {
   "cell_type": "code",
   "execution_count": null,
   "metadata": {},
   "outputs": [],
   "source": []
  }
 ],
 "metadata": {
  "kernelspec": {
   "display_name": "base",
   "language": "python",
   "name": "python3"
  },
  "language_info": {
   "codemirror_mode": {
    "name": "ipython",
    "version": 3
   },
   "file_extension": ".py",
   "mimetype": "text/x-python",
   "name": "python",
   "nbconvert_exporter": "python",
   "pygments_lexer": "ipython3",
   "version": "3.11.3 (main, Apr 19 2023, 18:49:55) [Clang 14.0.6 ]"
  },
  "orig_nbformat": 4,
  "vscode": {
   "interpreter": {
    "hash": "1da8bb1e470ff509bdae4e915df9bfc787d66424978116436e3017457e3e36c8"
   }
  }
 },
 "nbformat": 4,
 "nbformat_minor": 2
}
