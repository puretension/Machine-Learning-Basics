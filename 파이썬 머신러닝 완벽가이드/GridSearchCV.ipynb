{
 "cells": [
  {
   "cell_type": "code",
   "execution_count": 1,
   "metadata": {},
   "outputs": [
    {
     "name": "stdout",
     "output_type": "stream",
     "text": [
      "Best Hyperparameters:  {'C': 1, 'gamma': 0.1, 'kernel': 'linear'}\n",
      "Best Score:  0.9800000000000001\n"
     ]
    }
   ],
   "source": [
    "#1. 필요한 라이브러리 & 모듈 가져오기\n",
    "from sklearn.datasets import load_iris\n",
    "from sklearn.model_selection import GridSearchCV\n",
    "from sklearn.svm import SVC\n",
    "\n",
    "# 2. 데이터세트 불러오기\n",
    "# Load the iris dataset\n",
    "iris = load_iris()\n",
    "X = iris.data\n",
    "y = iris.target\n",
    "\n",
    "#3. 조정하려는 분류자의 인스턴스를 만들어준다.\n",
    "# Create the SVM classifier\n",
    "svm = SVC()\n",
    "\n",
    "#4. gradsearchcv에서 사용할 하이퍼파라미터 변수들을 정의한다.\n",
    "# Define the hyperparameters and their possible values\n",
    "param_grid = {\n",
    "    'C': [0.1, 1, 10],\n",
    "    'kernel': ['linear', 'rbf'],\n",
    "    'gamma': [0.1, 1, 10]\n",
    "}\n",
    "\n",
    "\n",
    "#5. GreadSearchCV 개체를 만들고  분류자, 하이퍼파라미터, cv를 지정한다.\n",
    "# Perform GridSearchCV\n",
    "grid_search = GridSearchCV(estimator=svm, param_grid=param_grid, cv=5)\n",
    "\n",
    "# 6. GridsearchCV를 이용하여 GradSearchCV를 수행한다.\n",
    "grid_search.fit(X, y)\n",
    "\n",
    "# 7. GridSearchCV 수행 후 최적의 하이퍼 파라미터를 PRINT로 확인한다.\n",
    "# Print the best hyperparameters and best score\n",
    "print(\"Best Hyperparameters: \", grid_search.best_params_)\n",
    "print(\"Best Score: \", grid_search.best_score_)"
   ]
  }
 ],
 "metadata": {
  "kernelspec": {
   "display_name": "base",
   "language": "python",
   "name": "python3"
  },
  "language_info": {
   "codemirror_mode": {
    "name": "ipython",
    "version": 3
   },
   "file_extension": ".py",
   "mimetype": "text/x-python",
   "name": "python",
   "nbconvert_exporter": "python",
   "pygments_lexer": "ipython3",
   "version": "3.11.3 (main, Apr 19 2023, 18:49:55) [Clang 14.0.6 ]"
  },
  "orig_nbformat": 4,
  "vscode": {
   "interpreter": {
    "hash": "1da8bb1e470ff509bdae4e915df9bfc787d66424978116436e3017457e3e36c8"
   }
  }
 },
 "nbformat": 4,
 "nbformat_minor": 2
}
