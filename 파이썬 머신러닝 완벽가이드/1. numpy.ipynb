{
 "cells": [
  {
   "attachments": {},
   "cell_type": "markdown",
   "metadata": {},
   "source": [
    "# Numpy"
   ]
  },
  {
   "attachments": {},
   "cell_type": "markdown",
   "metadata": {},
   "source": [
    "### 1. Numpy ndarray 개요"
   ]
  },
  {
   "cell_type": "code",
   "execution_count": 12,
   "metadata": {},
   "outputs": [
    {
     "name": "stdout",
     "output_type": "stream",
     "text": [
      "list1 type <class 'list'>\n",
      "array1 type: <class 'numpy.ndarray'>\n",
      "array1 array 형태: (3,)\n",
      "array2 type: <class 'numpy.ndarray'>\n",
      "array2 array 형태: (2, 3)\n",
      "array3 type: <class 'numpy.ndarray'>\n",
      "array3 array형태: (1, 3)\n"
     ]
    }
   ],
   "source": [
    "import numpy as np\n",
    "\n",
    "list1 = [1,2,3]\n",
    "print('list1 type', type(list1)) # python 리스트에서\n",
    "# ndArray 만들기!\n",
    "array1 = np.array(list1)\n",
    "print('array1 type:', type(array1))\n",
    "print('array1 array 형태:', array1.shape)\n",
    "\n",
    "array2 = np.array([[1,2,3],[2,3,4]])\n",
    "print('array2 type:', type(array2))\n",
    "print('array2 array 형태:', array2.shape)\n",
    "\n",
    "array3 = np.array([[1,2,3]])\n",
    "print('array3 type:', type(array3))\n",
    "print('array3 array형태:', array3.shape)\n"
   ]
  },
  {
   "cell_type": "code",
   "execution_count": 11,
   "metadata": {},
   "outputs": [
    {
     "name": "stdout",
     "output_type": "stream",
     "text": [
      "array1: 1차원, array2: 2차원,array3: 2차원,\n"
     ]
    }
   ],
   "source": [
    "# (1,3)은 3차원이 아니라 2차원이다!\n",
    "print('array1: {0}차원, array2: {1}차원,array3: {2}차원,'.format(array1.ndim, array2.ndim, array3.ndim))"
   ]
  },
  {
   "attachments": {},
   "cell_type": "markdown",
   "metadata": {},
   "source": [
    "### ndarray의 데이터 타입"
   ]
  },
  {
   "cell_type": "code",
   "execution_count": 14,
   "metadata": {},
   "outputs": [
    {
     "name": "stdout",
     "output_type": "stream",
     "text": [
      "<class 'numpy.ndarray'>\n",
      "[1 2 3] int64\n"
     ]
    }
   ],
   "source": [
    "list1 = [1,2,3]\n",
    "array1 = np.array(list1)\n",
    "print(type(array1))\n",
    "print(array1, array1.dtype) # 개별 요소와 타입 출력"
   ]
  },
  {
   "attachments": {},
   "cell_type": "markdown",
   "metadata": {},
   "source": [
    "#### 다른 타입이 섞여있다면? -> 자동 형변환(범위가 더 큰쪽으로!)"
   ]
  },
  {
   "cell_type": "code",
   "execution_count": 15,
   "metadata": {},
   "outputs": [
    {
     "name": "stdout",
     "output_type": "stream",
     "text": [
      "['1' '2' 'test'] <U21\n",
      "[1. 2. 3.] float64\n"
     ]
    }
   ],
   "source": [
    "list2 = [1,2,'test']\n",
    "array2 = np.array(list2)\n",
    "print(array2, array2.dtype)\n",
    "\n",
    "list3 = [1,2,3.0]\n",
    "array3 = np.array(list3)\n",
    "print(array3, array3.dtype)"
   ]
  },
  {
   "cell_type": "code",
   "execution_count": 19,
   "metadata": {},
   "outputs": [
    {
     "name": "stdout",
     "output_type": "stream",
     "text": [
      "[1. 2. 3.] float64\n",
      "[1 2 3] int32\n"
     ]
    }
   ],
   "source": [
    "array_int = np.array([1,2,3])\n",
    "\n",
    "array_float = array_int.astype('float64')\n",
    "print(array_float, array_float.dtype)\n",
    "\n",
    "array_int1 = array_float.astype('int32')\n",
    "print(array_int1, array_int1.dtype)"
   ]
  },
  {
   "attachments": {},
   "cell_type": "markdown",
   "metadata": {},
   "source": [
    "### ndarray를 편리하게 생성하기 - arange, zeros, ones"
   ]
  },
  {
   "cell_type": "code",
   "execution_count": 20,
   "metadata": {},
   "outputs": [
    {
     "name": "stdout",
     "output_type": "stream",
     "text": [
      "[0 1 2 3 4 5 6 7 8 9]\n",
      "int64 (10,)\n"
     ]
    }
   ],
   "source": [
    "seq_array = np.arange(10)\n",
    "print(seq_array)\n",
    "print(seq_array.dtype, seq_array.shape)"
   ]
  },
  {
   "cell_type": "code",
   "execution_count": 26,
   "metadata": {},
   "outputs": [
    {
     "name": "stdout",
     "output_type": "stream",
     "text": [
      "[[0 0]\n",
      " [0 0]\n",
      " [0 0]]\n",
      "int32 (3, 2)\n",
      "[[1. 1.]\n",
      " [1. 1.]\n",
      " [1. 1.]]\n",
      "float64 (3, 2)\n"
     ]
    }
   ],
   "source": [
    "# (3,2) shape를 가지는 모든 원소가 0, dtype은 int32 인 ndarray 생성\n",
    "zero_array = np.zeros((3,2), dtype='int32') # zeros 이기때문에 0\n",
    "\n",
    "print(zero_array)\n",
    "print(zero_array.dtype, zero_array.shape)\n",
    "\n",
    "one_array = np.ones((3,2)) # ones 이기때문에 1\n",
    "print(one_array)\n",
    "print(one_array.dtype, one_array.shape)"
   ]
  },
  {
   "cell_type": "markdown",
   "metadata": {},
   "source": [
    "### ndarray의 차원과 크기 변경하는 reshape"
   ]
  },
  {
   "cell_type": "code",
   "execution_count": 28,
   "metadata": {},
   "outputs": [
    {
     "name": "stdout",
     "output_type": "stream",
     "text": [
      "array1:\n",
      " [0 1 2 3 4 5 6 7 8 9]\n",
      "array2:\n",
      " [[0 1 2 3 4]\n",
      " [5 6 7 8 9]]\n",
      "array3:\n",
      " [[0 1]\n",
      " [2 3]\n",
      " [4 5]\n",
      " [6 7]\n",
      " [8 9]]\n"
     ]
    }
   ],
   "source": [
    "array1 = np.arange(10)\n",
    "print('array1:\\n', array1)\n",
    "\n",
    "# (2, 5) shape으로 변환\n",
    "array2 = array1.reshape(2, 5)\n",
    "print('array2:\\n',array2)\n",
    "\n",
    "#(5, 2) shape으로 변환. \n",
    "array3 = array1.reshape(5,2)\n",
    "print('array3:\\n',array3)"
   ]
  },
  {
   "cell_type": "code",
   "execution_count": 27,
   "metadata": {},
   "outputs": [
    {
     "ename": "ValueError",
     "evalue": "cannot reshape array of size 3 into shape (4,3)",
     "output_type": "error",
     "traceback": [
      "\u001b[0;31m---------------------------------------------------------------------------\u001b[0m",
      "\u001b[0;31mValueError\u001b[0m                                Traceback (most recent call last)",
      "Cell \u001b[0;32mIn[27], line 1\u001b[0m\n\u001b[0;32m----> 1\u001b[0m array1\u001b[39m.\u001b[39mreshape(\u001b[39m4\u001b[39m,\u001b[39m3\u001b[39m)\n",
      "\u001b[0;31mValueError\u001b[0m: cannot reshape array of size 3 into shape (4,3)"
     ]
    }
   ],
   "source": [
    "array1.reshape(4,3) # 불가능"
   ]
  },
  {
   "attachments": {},
   "cell_type": "markdown",
   "metadata": {},
   "source": [
    "#### reshape(-1,5)? -1 옆에거는 const value"
   ]
  },
  {
   "cell_type": "code",
   "execution_count": 29,
   "metadata": {},
   "outputs": [
    {
     "name": "stdout",
     "output_type": "stream",
     "text": [
      "[0 1 2 3 4 5 6 7 8 9]\n",
      "array2 shape: (2, 5)\n",
      "array3 shape: (5, 2)\n"
     ]
    }
   ],
   "source": [
    "array1 = np.arange(10)\n",
    "print(array1)\n",
    "# -1 옆에거는 const value\n",
    "array2 = array1.reshape(-1,5)\n",
    "print('array2 shape:',array2.shape)\n",
    "\n",
    "array3 = array1.reshape(5,-1)\n",
    "print('array3 shape:',array3.shape)"
   ]
  },
  {
   "cell_type": "code",
   "execution_count": 30,
   "metadata": {},
   "outputs": [
    {
     "ename": "ValueError",
     "evalue": "cannot reshape array of size 10 into shape (4)",
     "output_type": "error",
     "traceback": [
      "\u001b[0;31m---------------------------------------------------------------------------\u001b[0m",
      "\u001b[0;31mValueError\u001b[0m                                Traceback (most recent call last)",
      "Cell \u001b[0;32mIn[30], line 2\u001b[0m\n\u001b[1;32m      1\u001b[0m array1 \u001b[39m=\u001b[39m np\u001b[39m.\u001b[39marange(\u001b[39m10\u001b[39m)\n\u001b[0;32m----> 2\u001b[0m array4 \u001b[39m=\u001b[39m array1\u001b[39m.\u001b[39mreshape(\u001b[39m-\u001b[39m\u001b[39m1\u001b[39m,\u001b[39m4\u001b[39m)\n",
      "\u001b[0;31mValueError\u001b[0m: cannot reshape array of size 10 into shape (4)"
     ]
    }
   ],
   "source": [
    "array1 = np.arange(10)\n",
    "array4 = array1.reshape(-1,4) # 불가능"
   ]
  },
  {
   "cell_type": "code",
   "execution_count": 34,
   "metadata": {},
   "outputs": [
    {
     "name": "stdout",
     "output_type": "stream",
     "text": [
      "array3d:\n",
      " [[[0, 1], [2, 3]], [[4, 5], [6, 7]]]\n",
      "array5:\n",
      " [[0], [1], [2], [3], [4], [5], [6], [7]]\n",
      "array5 shape: (8, 1)\n",
      "array6:\n",
      " [[0], [1], [2], [3], [4], [5], [6], [7]]\n",
      "array6 shape: (8, 1)\n",
      "[0 1 2 3 4 5 6 7]\n"
     ]
    }
   ],
   "source": [
    "array1 = np.arange(8)\n",
    "array3d = array1.reshape((2,2,2))\n",
    "print('array3d:\\n',array3d.tolist())\n",
    "\n",
    "# 3차원 ndarray를 2차원 ndarray로 변환하되 칼럼갯수는 1\n",
    "array5 = array3d.reshape(-1, 1)\n",
    "print('array5:\\n',array5.tolist())\n",
    "print('array5 shape:',array5.shape)\n",
    "\n",
    "# 1차원 ndarray를 2차원 ndarray로 변환화되 칼럼 갯수는 1\n",
    "array6 = array1.reshape(-1, 1)\n",
    "print('array6:\\n',array6.tolist())\n",
    "print('array6 shape:',array6.shape)\n",
    "\n",
    "# 3차원 array를 1차원으로 변환\n",
    "array1d = array3d.reshape(-1,)\n",
    "print(array1d)"
   ]
  },
  {
   "cell_type": "markdown",
   "metadata": {},
   "source": [
    "### 넘파이 ndarray의 데이터 세트 선택하기 - indexing"
   ]
  },
  {
   "cell_type": "code",
   "execution_count": null,
   "metadata": {},
   "outputs": [],
   "source": []
  }
 ],
 "metadata": {
  "kernelspec": {
   "display_name": "base",
   "language": "python",
   "name": "python3"
  },
  "language_info": {
   "codemirror_mode": {
    "name": "ipython",
    "version": 3
   },
   "file_extension": ".py",
   "mimetype": "text/x-python",
   "name": "python",
   "nbconvert_exporter": "python",
   "pygments_lexer": "ipython3",
   "version": "3.11.3 (main, Apr 19 2023, 18:49:55) [Clang 14.0.6 ]"
  },
  "orig_nbformat": 4,
  "vscode": {
   "interpreter": {
    "hash": "1da8bb1e470ff509bdae4e915df9bfc787d66424978116436e3017457e3e36c8"
   }
  }
 },
 "nbformat": 4,
 "nbformat_minor": 2
}
