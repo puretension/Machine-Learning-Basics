{
 "cells": [
  {
   "cell_type": "code",
   "execution_count": 1,
   "id": "00541b2a",
   "metadata": {},
   "outputs": [],
   "source": [
    "from bs4 import BeautifulSoup\n",
    "import time\n",
    "import re\n",
    "from tqdm.auto import tqdm\n",
    "\n",
    "from selenium import webdriver\n",
    "from selenium.webdriver.chrome.service import Service"
   ]
  },
  {
   "cell_type": "code",
   "execution_count": 2,
   "id": "a16ddfd9",
   "metadata": {},
   "outputs": [
    {
     "data": {
      "text/html": [
       "<div>\n",
       "<style scoped>\n",
       "    .dataframe tbody tr th:only-of-type {\n",
       "        vertical-align: middle;\n",
       "    }\n",
       "\n",
       "    .dataframe tbody tr th {\n",
       "        vertical-align: top;\n",
       "    }\n",
       "\n",
       "    .dataframe thead th {\n",
       "        text-align: right;\n",
       "    }\n",
       "</style>\n",
       "<table border=\"1\" class=\"dataframe\">\n",
       "  <thead>\n",
       "    <tr style=\"text-align: right;\">\n",
       "      <th></th>\n",
       "      <th>키워드</th>\n",
       "      <th>서브키워드</th>\n",
       "      <th>토픽</th>\n",
       "      <th>토픽_URL</th>\n",
       "    </tr>\n",
       "  </thead>\n",
       "  <tbody>\n",
       "    <tr>\n",
       "      <th>0</th>\n",
       "      <td>지구한바퀴세계여행</td>\n",
       "      <td>해외여행</td>\n",
       "      <td>자유여행</td>\n",
       "      <td>/keyword/자유여행</td>\n",
       "    </tr>\n",
       "    <tr>\n",
       "      <th>1</th>\n",
       "      <td>지구한바퀴세계여행</td>\n",
       "      <td>해외여행</td>\n",
       "      <td>몽골여행</td>\n",
       "      <td>/keyword/몽골여행</td>\n",
       "    </tr>\n",
       "    <tr>\n",
       "      <th>2</th>\n",
       "      <td>지구한바퀴세계여행</td>\n",
       "      <td>해외여행</td>\n",
       "      <td>여권</td>\n",
       "      <td>/keyword/여권</td>\n",
       "    </tr>\n",
       "    <tr>\n",
       "      <th>3</th>\n",
       "      <td>지구한바퀴세계여행</td>\n",
       "      <td>해외여행</td>\n",
       "      <td>패키지여행</td>\n",
       "      <td>/keyword/패키지여행</td>\n",
       "    </tr>\n",
       "    <tr>\n",
       "      <th>4</th>\n",
       "      <td>지구한바퀴세계여행</td>\n",
       "      <td>해외여행</td>\n",
       "      <td>여행지</td>\n",
       "      <td>/keyword/여행지</td>\n",
       "    </tr>\n",
       "    <tr>\n",
       "      <th>...</th>\n",
       "      <td>...</td>\n",
       "      <td>...</td>\n",
       "      <td>...</td>\n",
       "      <td>...</td>\n",
       "    </tr>\n",
       "    <tr>\n",
       "      <th>6096</th>\n",
       "      <td>감성에세이</td>\n",
       "      <td>산문집</td>\n",
       "      <td>기록</td>\n",
       "      <td>/keyword/기록</td>\n",
       "    </tr>\n",
       "    <tr>\n",
       "      <th>6097</th>\n",
       "      <td>감성에세이</td>\n",
       "      <td>산문집</td>\n",
       "      <td>우울증</td>\n",
       "      <td>/keyword/우울증</td>\n",
       "    </tr>\n",
       "    <tr>\n",
       "      <th>6098</th>\n",
       "      <td>감성에세이</td>\n",
       "      <td>산문집</td>\n",
       "      <td>사진</td>\n",
       "      <td>/keyword/사진</td>\n",
       "    </tr>\n",
       "    <tr>\n",
       "      <th>6099</th>\n",
       "      <td>감성에세이</td>\n",
       "      <td>산문집</td>\n",
       "      <td>글</td>\n",
       "      <td>/keyword/글</td>\n",
       "    </tr>\n",
       "    <tr>\n",
       "      <th>6100</th>\n",
       "      <td>감성에세이</td>\n",
       "      <td>산문집</td>\n",
       "      <td>시인</td>\n",
       "      <td>/keyword/시인</td>\n",
       "    </tr>\n",
       "  </tbody>\n",
       "</table>\n",
       "<p>6101 rows × 4 columns</p>\n",
       "</div>"
      ],
      "text/plain": [
       "            키워드 서브키워드     토픽          토픽_URL\n",
       "0     지구한바퀴세계여행  해외여행   자유여행   /keyword/자유여행\n",
       "1     지구한바퀴세계여행  해외여행   몽골여행   /keyword/몽골여행\n",
       "2     지구한바퀴세계여행  해외여행     여권     /keyword/여권\n",
       "3     지구한바퀴세계여행  해외여행  패키지여행  /keyword/패키지여행\n",
       "4     지구한바퀴세계여행  해외여행    여행지    /keyword/여행지\n",
       "...         ...   ...    ...             ...\n",
       "6096      감성에세이   산문집     기록     /keyword/기록\n",
       "6097      감성에세이   산문집    우울증    /keyword/우울증\n",
       "6098      감성에세이   산문집     사진     /keyword/사진\n",
       "6099      감성에세이   산문집      글      /keyword/글\n",
       "6100      감성에세이   산문집     시인     /keyword/시인\n",
       "\n",
       "[6101 rows x 4 columns]"
      ]
     },
     "execution_count": 2,
     "metadata": {},
     "output_type": "execute_result"
    }
   ],
   "source": [
    "import pandas as pd\n",
    "df = pd.read_csv('Brunch 키워드.csv'); df"
   ]
  },
  {
   "cell_type": "code",
   "execution_count": 3,
   "id": "5b5803ef",
   "metadata": {},
   "outputs": [],
   "source": [
    "topic_list = list(df['토픽_URL'].drop_duplicates())"
   ]
  },
  {
   "cell_type": "code",
   "execution_count": 4,
   "id": "64f19e57",
   "metadata": {},
   "outputs": [],
   "source": [
    "s = Service('/Users/macair/Documents/chromedriver')\n",
    "# options = webdriver.ChromeOptions()\n",
    "# options.add_argument('--headless')\n",
    "# options.add_argument('--no-sandbox')\n",
    "# options.add_argument('--disable-dev-shm-usage')\n",
    "\n",
    "driver = webdriver.Chrome(service=s) # options = options\n",
    "driver.maximize_window()\n",
    "time.sleep(2)"
   ]
  },
  {
   "cell_type": "code",
   "execution_count": 5,
   "id": "70b259d1",
   "metadata": {},
   "outputs": [],
   "source": [
    "test_url = df['토픽_URL'][0]\n",
    "base_url = 'https://brunch.co.kr'\n",
    "driver.get(base_url + test_url)"
   ]
  },
  {
   "cell_type": "code",
   "execution_count": 6,
   "id": "7e3719ec",
   "metadata": {},
   "outputs": [],
   "source": [
    "html = driver.page_source\n",
    "soup = BeautifulSoup(html, 'html.parser')"
   ]
  },
  {
   "cell_type": "code",
   "execution_count": 14,
   "id": "c20f34cf",
   "metadata": {},
   "outputs": [],
   "source": [
    "driver.quit()"
   ]
  },
  {
   "cell_type": "code",
   "execution_count": 10,
   "id": "21757df7",
   "metadata": {},
   "outputs": [],
   "source": [
    "article_body = soup.find('ul', 'list_article list_common')"
   ]
  },
  {
   "cell_type": "code",
   "execution_count": 11,
   "id": "8ce4a3a0",
   "metadata": {},
   "outputs": [],
   "source": [
    "article_list = article_body.find_all('li')"
   ]
  },
  {
   "cell_type": "code",
   "execution_count": 16,
   "id": "14d32d72",
   "metadata": {},
   "outputs": [],
   "source": [
    "test_article = article_list[0]"
   ]
  },
  {
   "cell_type": "code",
   "execution_count": 17,
   "id": "7cafaba9",
   "metadata": {},
   "outputs": [],
   "source": [
    "def get_content_info(soup):\n",
    "    article_url = soup.find('a').get('href')\n",
    "    title = soup.find('strong', 'tit_subject').text\n",
    "    sub_title = soup.find('em', 'tit_sub').text\n",
    "    author = soup.find_all('span', 'name_txt')[-1].text\n",
    "    content = soup.find('span', 'article_content').text\n",
    "    time = soup.find('span', 'publish_time').text\n",
    "    \n",
    "    data = [article_url, title, sub_title, author, content, time]\n",
    "    \n",
    "    return data"
   ]
  },
  {
   "cell_type": "code",
   "execution_count": 18,
   "id": "3c0deb4f",
   "metadata": {},
   "outputs": [
    {
     "data": {
      "text/plain": [
       "['/@@fiTV/20',\n",
       " '로키의 꽃 \"아이스필드 파크웨이\"',\n",
       " '캐나다 기행문 7',\n",
       " '서진이네',\n",
       " 'DAY6 -\\xa0재스퍼\\xa0to\\xa0밴프 DAY6는\\xa0재스퍼에서 밴프로 이동하는 날이다. 재스퍼에서 밴프까지는 290km나 나오지만, 이미 800km 가까이 드라이브를 했던 터라 290km는 ‘별 거 없네’ 수준이었다. 하지만 이 두 지역의 사이 길에 봐야할 관광지가 몰려있었기 때문에 부지런히 출발해야했다. 재스퍼에서 밴프로 가는 길은 ‘Icefield Parkway’',\n",
       " 'Aug 10. 2023']"
      ]
     },
     "execution_count": 18,
     "metadata": {},
     "output_type": "execute_result"
    }
   ],
   "source": [
    "get_content_info(test_article)"
   ]
  },
  {
   "cell_type": "code",
   "execution_count": 19,
   "id": "36037655",
   "metadata": {},
   "outputs": [],
   "source": [
    "def get_content_url(drive, topic):\n",
    "    html = driver.page_source\n",
    "    soup = BeautifulSoup(html, 'html.parser')\n",
    "    \n",
    "    li_list = soup.find('ul', 'list_article list_common').find_all('li')\n",
    "    \n",
    "    return list(map(lambda x: get_content_info(x) + [topic], li_list))"
   ]
  },
  {
   "cell_type": "markdown",
   "id": "e3bb7624",
   "metadata": {},
   "source": [
    "## 스크롤 다운 | 함수 | 자동화"
   ]
  },
  {
   "cell_type": "code",
   "execution_count": 20,
   "id": "80d30a4f",
   "metadata": {},
   "outputs": [],
   "source": [
    "s = Service('/Users/macair/Documents/chromedriver')\n",
    "# options = webdriver.ChromeOptions()\n",
    "# options.add_argument('--headless')\n",
    "# options.add_argument('--no-sandbox')\n",
    "# options.add_argument('--disable-dev-shm-usage')\n",
    "\n",
    "driver = webdriver.Chrome(service=s) # options = options\n",
    "driver.maximize_window()\n",
    "time.sleep(2)"
   ]
  },
  {
   "cell_type": "code",
   "execution_count": 21,
   "id": "2ddcaeb7",
   "metadata": {},
   "outputs": [],
   "source": [
    "test_url = df['토픽_URL'][0]\n",
    "base_url = 'https://brunch.co.kr'\n",
    "driver.get(base_url + test_url)"
   ]
  },
  {
   "cell_type": "code",
   "execution_count": 25,
   "id": "283c4c23",
   "metadata": {},
   "outputs": [],
   "source": [
    "from selenium.webdriver.common.keys import Keys\n",
    "\n",
    "# 스크롤 다운 방법\n",
    "body = driver.find_element('css selector', 'body')\n",
    "body.send_keys(Keys.END)"
   ]
  },
  {
   "cell_type": "code",
   "execution_count": 26,
   "id": "2a13877e",
   "metadata": {},
   "outputs": [],
   "source": [
    "# 스크롤 5번 내리기\n",
    "for rep in range(5):\n",
    "    body.send_keys(Keys.END)\n",
    "    time.sleep(1)"
   ]
  },
  {
   "cell_type": "code",
   "execution_count": 27,
   "id": "da7f0f1c",
   "metadata": {},
   "outputs": [
    {
     "name": "stdout",
     "output_type": "stream",
     "text": [
      "5 번 5.11748194694519 초 소요\n"
     ]
    }
   ],
   "source": [
    "# 스크롤을 페이지 끝까지 내리는 코드\n",
    "\n",
    "start = time.time()\n",
    "last_height = driver.execute_script(\"return document.body.scrollHeight\")\n",
    "n = 0\n",
    "\n",
    "while n < 5:\n",
    "    driver.execute_script(\"window.scrollTo(0, document.body.scrollHeight);\")\n",
    "    time.sleep(1)  # 스크롤이 끝까지 내려가기를 기다리는 시간\n",
    "    new_height = driver.execute_script(\"return document.body.scrollHeight\")\n",
    "    if new_height == last_height:\n",
    "        break\n",
    "    last_height = new_height\n",
    "    n += 1\n",
    "    \n",
    "end = time.time()\n",
    "print(n, '번', end - start, '초 소요')"
   ]
  },
  {
   "cell_type": "code",
   "execution_count": 30,
   "id": "29baf0ec",
   "metadata": {},
   "outputs": [
    {
     "data": {
      "application/vnd.jupyter.widget-view+json": {
       "model_id": "81b68441797a4bd0a31328c4d37dcfc7",
       "version_major": 2,
       "version_minor": 0
      },
      "text/plain": [
       "  0%|          | 0/5 [00:00<?, ?it/s]"
      ]
     },
     "metadata": {},
     "output_type": "display_data"
    },
    {
     "name": "stdout",
     "output_type": "stream",
     "text": [
      "자유여행 88 개\n",
      "몽골여행 87 개\n",
      "여권 94 개\n",
      "패키지여행 88 개\n",
      "여행지 91 개\n"
     ]
    }
   ],
   "source": [
    "content_list = []\n",
    "base_url = 'https://brunch.co.kr'\n",
    "\n",
    "start_index = 0\n",
    "start_topic = topic_list[start_index].split('/')[-1]\n",
    "\n",
    "end_index = 5\n",
    "end_topic = topic_list[end_index].split('/')[-1]\n",
    "\n",
    "for part_url in tqdm(topic_list[start_index:end_index]):\n",
    "    url = base_url + part_url\n",
    "    driver.get(url)\n",
    "    topic = part_url.split('/')[-1]\n",
    "    \n",
    "    last_height = driver.execute_script(\"return document.body.scrollHeight\")\n",
    "    n = 0\n",
    "    start = time.time()\n",
    "    while n < 5:\n",
    "        driver.execute_script(\"window.scrollTo(0, document.body.scrollHeight);\")\n",
    "        time.sleep(2)\n",
    "        new_height = driver.execute_script(\"return document.body.scrollHeight\")\n",
    "        if new_height == last_height:\n",
    "            break\n",
    "        last_height = new_height\n",
    "        n += 1\n",
    "        \n",
    "        if n % 100 == 0:\n",
    "            end = time.time()\n",
    "            print(topic, n, '번', end - start)\n",
    "    \n",
    "    tmp_list = get_content_url(driver, topic)\n",
    "    print(topic, len(tmp_list), '개')\n",
    "    content_list.extend(tmp_list)\n",
    "    \n",
    "    driver.delete_all_cookies()"
   ]
  },
  {
   "cell_type": "code",
   "execution_count": 31,
   "id": "50384c68",
   "metadata": {},
   "outputs": [
    {
     "data": {
      "text/html": [
       "<div>\n",
       "<style scoped>\n",
       "    .dataframe tbody tr th:only-of-type {\n",
       "        vertical-align: middle;\n",
       "    }\n",
       "\n",
       "    .dataframe tbody tr th {\n",
       "        vertical-align: top;\n",
       "    }\n",
       "\n",
       "    .dataframe thead th {\n",
       "        text-align: right;\n",
       "    }\n",
       "</style>\n",
       "<table border=\"1\" class=\"dataframe\">\n",
       "  <thead>\n",
       "    <tr style=\"text-align: right;\">\n",
       "      <th></th>\n",
       "      <th>URL</th>\n",
       "      <th>제목</th>\n",
       "      <th>부제목</th>\n",
       "      <th>작성자</th>\n",
       "      <th>콘텐츠</th>\n",
       "      <th>작성일</th>\n",
       "      <th>키워드</th>\n",
       "    </tr>\n",
       "  </thead>\n",
       "  <tbody>\n",
       "    <tr>\n",
       "      <th>0</th>\n",
       "      <td>/@@fiTV/20</td>\n",
       "      <td>로키의 꽃 \"아이스필드 파크웨이\"</td>\n",
       "      <td>캐나다 기행문 7</td>\n",
       "      <td>서진이네</td>\n",
       "      <td>DAY6 - 재스퍼 to 밴프 DAY6는 재스퍼에서 밴프로 이동하는 날이다. 재스퍼...</td>\n",
       "      <td>Aug 10. 2023</td>\n",
       "      <td>자유여행</td>\n",
       "    </tr>\n",
       "    <tr>\n",
       "      <th>1</th>\n",
       "      <td>/@@1egW/191</td>\n",
       "      <td>프랑스 2주 자유여행(준비편)</td>\n",
       "      <td>해외 자유여행 고수의 유용한 Tip</td>\n",
       "      <td>여행작가 히랑</td>\n",
       "      <td>프랑스 2주 자유여행(준비편) ​ 간만에 동영상 공개합니다. 그동안 뉴욕, 뉴욕 했...</td>\n",
       "      <td>Aug 06. 2023</td>\n",
       "      <td>자유여행</td>\n",
       "    </tr>\n",
       "    <tr>\n",
       "      <th>2</th>\n",
       "      <td>/@@fkAL/45</td>\n",
       "      <td>빠니보틀처럼</td>\n",
       "      <td>그냥 가자</td>\n",
       "      <td>바카롱</td>\n",
       "      <td>나는 팩키지보다 자유여행을 선호한다. 아예 처음부터 그렇게 시작해서이기도 하고 의외...</td>\n",
       "      <td>Aug 01. 2023</td>\n",
       "      <td>자유여행</td>\n",
       "    </tr>\n",
       "    <tr>\n",
       "      <th>3</th>\n",
       "      <td>/@@8sbv/346</td>\n",
       "      <td>여행 예찬</td>\n",
       "      <td>자유를 향해 뛰어드는 삶</td>\n",
       "      <td>흔한여신</td>\n",
       "      <td>떠나기 전엔 미처 몰랐다.    얼마 전까지만 해도 나는 여행에 돈 쓰는 게 제일 ...</td>\n",
       "      <td>Jul 31. 2023</td>\n",
       "      <td>자유여행</td>\n",
       "    </tr>\n",
       "    <tr>\n",
       "      <th>4</th>\n",
       "      <td>/@@eySH/64</td>\n",
       "      <td>제주도 중독자</td>\n",
       "      <td>산굼부리의 꾸냥</td>\n",
       "      <td>임히엔</td>\n",
       "      <td>나의 첫 제주는 당시 근무하던 회사의 친한 동료분들과 함께였다. 제주가 처음이었던 ...</td>\n",
       "      <td>Jul 28. 2023</td>\n",
       "      <td>자유여행</td>\n",
       "    </tr>\n",
       "    <tr>\n",
       "      <th>...</th>\n",
       "      <td>...</td>\n",
       "      <td>...</td>\n",
       "      <td>...</td>\n",
       "      <td>...</td>\n",
       "      <td>...</td>\n",
       "      <td>...</td>\n",
       "      <td>...</td>\n",
       "    </tr>\n",
       "    <tr>\n",
       "      <th>443</th>\n",
       "      <td>/@@1jPF/1366</td>\n",
       "      <td>대만 타이베이 가볼만한곳,  꼭 가봐야 할 여행지 7곳</td>\n",
       "      <td>대만 여행지 추천, 대만 타이베이 여행, 타이페이 가볼만한곳</td>\n",
       "      <td>호텔스닷컴</td>\n",
       "      <td>대만의 수도, 타이베이는 경제, 문화적으로 중심적인 역할을 하는 도시입니다. 사실 ...</td>\n",
       "      <td>Jan 16. 2023</td>\n",
       "      <td>여행지</td>\n",
       "    </tr>\n",
       "    <tr>\n",
       "      <th>444</th>\n",
       "      <td>/@@6QjG/306</td>\n",
       "      <td>아침형 인간이 여행지에서의 아침 보내는 방법에 대하여</td>\n",
       "      <td></td>\n",
       "      <td>순간 수집가</td>\n",
       "      <td>나이가 들면서 아침에 일찍 일어나게 되었다. 이유는 모르겠지만 새벽 4시~5시면 알...</td>\n",
       "      <td>Jan 05. 2023</td>\n",
       "      <td>여행지</td>\n",
       "    </tr>\n",
       "    <tr>\n",
       "      <th>445</th>\n",
       "      <td>/@@6DA7/111</td>\n",
       "      <td>되돌아보기 그리고 시작</td>\n",
       "      <td></td>\n",
       "      <td>lee나무</td>\n",
       "      <td>지나갔네요. 시간이. 1년이.  한 해를 마무리하는 즈음에 힘들고 성가신 일들을 해...</td>\n",
       "      <td>Jan 04. 2023</td>\n",
       "      <td>여행지</td>\n",
       "    </tr>\n",
       "    <tr>\n",
       "      <th>446</th>\n",
       "      <td>/@@dAVT/25</td>\n",
       "      <td>&lt;MBTI 추천 여행지&gt; ENTJ편</td>\n",
       "      <td>지극히 개인적인 견해로 추천하는 MBTI 별 여행지</td>\n",
       "      <td>Hopeyou</td>\n",
       "      <td>트폴레옹  ENTJ  추천 여행지: Italia_ Ravello 이탈리아 라벨로  ...</td>\n",
       "      <td>Jan 04. 2023</td>\n",
       "      <td>여행지</td>\n",
       "    </tr>\n",
       "    <tr>\n",
       "      <th>447</th>\n",
       "      <td>/@@6LZr/13</td>\n",
       "      <td>필리핀 마닐라 여행지 추천</td>\n",
       "      <td>- 인스타 성지 베니스 몰</td>\n",
       "      <td>김은후</td>\n",
       "      <td>공식 명칭은 베니스 그랜드 카날 몰 (Venice Grand Canal Mall)....</td>\n",
       "      <td>Jan 03. 2023</td>\n",
       "      <td>여행지</td>\n",
       "    </tr>\n",
       "  </tbody>\n",
       "</table>\n",
       "<p>448 rows × 7 columns</p>\n",
       "</div>"
      ],
      "text/plain": [
       "              URL                              제목  \\\n",
       "0      /@@fiTV/20              로키의 꽃 \"아이스필드 파크웨이\"   \n",
       "1     /@@1egW/191                프랑스 2주 자유여행(준비편)   \n",
       "2      /@@fkAL/45                          빠니보틀처럼   \n",
       "3     /@@8sbv/346                           여행 예찬   \n",
       "4      /@@eySH/64                         제주도 중독자   \n",
       "..            ...                             ...   \n",
       "443  /@@1jPF/1366  대만 타이베이 가볼만한곳,  꼭 가봐야 할 여행지 7곳   \n",
       "444   /@@6QjG/306   아침형 인간이 여행지에서의 아침 보내는 방법에 대하여   \n",
       "445   /@@6DA7/111                    되돌아보기 그리고 시작   \n",
       "446    /@@dAVT/25             <MBTI 추천 여행지> ENTJ편   \n",
       "447    /@@6LZr/13                  필리핀 마닐라 여행지 추천   \n",
       "\n",
       "                                   부제목      작성자  \\\n",
       "0                            캐나다 기행문 7     서진이네   \n",
       "1                  해외 자유여행 고수의 유용한 Tip  여행작가 히랑   \n",
       "2                                그냥 가자      바카롱   \n",
       "3                        자유를 향해 뛰어드는 삶     흔한여신   \n",
       "4                             산굼부리의 꾸냥      임히엔   \n",
       "..                                 ...      ...   \n",
       "443  대만 여행지 추천, 대만 타이베이 여행, 타이페이 가볼만한곳    호텔스닷컴   \n",
       "444                                      순간 수집가   \n",
       "445                                       lee나무   \n",
       "446       지극히 개인적인 견해로 추천하는 MBTI 별 여행지  Hopeyou   \n",
       "447                     - 인스타 성지 베니스 몰      김은후   \n",
       "\n",
       "                                                   콘텐츠           작성일   키워드  \n",
       "0    DAY6 - 재스퍼 to 밴프 DAY6는 재스퍼에서 밴프로 이동하는 날이다. 재스퍼...  Aug 10. 2023  자유여행  \n",
       "1    프랑스 2주 자유여행(준비편) ​ 간만에 동영상 공개합니다. 그동안 뉴욕, 뉴욕 했...  Aug 06. 2023  자유여행  \n",
       "2    나는 팩키지보다 자유여행을 선호한다. 아예 처음부터 그렇게 시작해서이기도 하고 의외...  Aug 01. 2023  자유여행  \n",
       "3    떠나기 전엔 미처 몰랐다.    얼마 전까지만 해도 나는 여행에 돈 쓰는 게 제일 ...  Jul 31. 2023  자유여행  \n",
       "4    나의 첫 제주는 당시 근무하던 회사의 친한 동료분들과 함께였다. 제주가 처음이었던 ...  Jul 28. 2023  자유여행  \n",
       "..                                                 ...           ...   ...  \n",
       "443  대만의 수도, 타이베이는 경제, 문화적으로 중심적인 역할을 하는 도시입니다. 사실 ...  Jan 16. 2023   여행지  \n",
       "444  나이가 들면서 아침에 일찍 일어나게 되었다. 이유는 모르겠지만 새벽 4시~5시면 알...  Jan 05. 2023   여행지  \n",
       "445  지나갔네요. 시간이. 1년이.  한 해를 마무리하는 즈음에 힘들고 성가신 일들을 해...  Jan 04. 2023   여행지  \n",
       "446  트폴레옹  ENTJ  추천 여행지: Italia_ Ravello 이탈리아 라벨로  ...  Jan 04. 2023   여행지  \n",
       "447  공식 명칭은 베니스 그랜드 카날 몰 (Venice Grand Canal Mall)....  Jan 03. 2023   여행지  \n",
       "\n",
       "[448 rows x 7 columns]"
      ]
     },
     "execution_count": 31,
     "metadata": {},
     "output_type": "execute_result"
    }
   ],
   "source": [
    "content_df = pd.DataFrame(content_list,\n",
    "                          columns = ['URL', '제목', '부제목', '작성자','콘텐츠', '작성일', '키워드'])\n",
    "content_df"
   ]
  },
  {
   "cell_type": "code",
   "execution_count": 32,
   "id": "d7e92f04",
   "metadata": {},
   "outputs": [],
   "source": [
    "driver.quit()"
   ]
  },
  {
   "cell_type": "code",
   "execution_count": 33,
   "id": "7bf11901",
   "metadata": {},
   "outputs": [],
   "source": [
    "content_df.to_csv('Brunch 콘텐츠 URL_{start_topic}-{end_topic}.csv'.format(start_topic = start_topic, end_topic = end_topic),\n",
    "                  index = False)"
   ]
  },
  {
   "cell_type": "code",
   "execution_count": null,
   "id": "71337c74",
   "metadata": {},
   "outputs": [],
   "source": []
  }
 ],
 "metadata": {
  "kernelspec": {
   "display_name": "base",
   "language": "python",
   "name": "python3"
  },
  "language_info": {
   "codemirror_mode": {
    "name": "ipython",
    "version": 3
   },
   "file_extension": ".py",
   "mimetype": "text/x-python",
   "name": "python",
   "nbconvert_exporter": "python",
   "pygments_lexer": "ipython3",
   "version": "3.11.3 (main, Apr 19 2023, 18:49:55) [Clang 14.0.6 ]"
  },
  "vscode": {
   "interpreter": {
    "hash": "1da8bb1e470ff509bdae4e915df9bfc787d66424978116436e3017457e3e36c8"
   }
  }
 },
 "nbformat": 4,
 "nbformat_minor": 5
}
