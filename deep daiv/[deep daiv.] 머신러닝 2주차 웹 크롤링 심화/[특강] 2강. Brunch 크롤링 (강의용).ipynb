{
 "cells": [
  {
   "cell_type": "code",
   "execution_count": null,
   "id": "75eeafbf",
   "metadata": {},
   "outputs": [],
   "source": [
    "from bs4 import BeautifulSoup\n",
    "import time\n",
    "import re\n",
    "from tqdm.auto import tqdm\n",
    "\n",
    "from selenium import webdriver\n",
    "from selenium.webdriver.chrome.service import Service"
   ]
  },
  {
   "cell_type": "code",
   "execution_count": null,
   "id": "3ca1f25c",
   "metadata": {},
   "outputs": [],
   "source": [
    "import pandas as pd\n",
    "df = pd.read_csv('Brunch 키워드.csv'); df"
   ]
  },
  {
   "cell_type": "code",
   "execution_count": null,
   "id": "b3b788d4",
   "metadata": {},
   "outputs": [],
   "source": [
    "# 중복 토픽 제거\n",
    "topic_list = #"
   ]
  },
  {
   "cell_type": "code",
   "execution_count": null,
   "id": "288f3a26",
   "metadata": {},
   "outputs": [],
   "source": [
    "s = Service('/Users/macair/Documents/chromedriver')\n",
    "# options = webdriver.ChromeOptions()\n",
    "# options.add_argument('--headless')\n",
    "# options.add_argument('--no-sandbox')\n",
    "# options.add_argument('--disable-dev-shm-usage')\n",
    "\n",
    "driver = webdriver.Chrome(service=s) # options = options\n",
    "driver.maximize_window()\n",
    "time.sleep(2)"
   ]
  },
  {
   "cell_type": "code",
   "execution_count": null,
   "id": "87106d8e",
   "metadata": {},
   "outputs": [],
   "source": [
    "# 드라이버 테스트\n",
    "test_url = df['토픽_URL'][0]\n",
    "base_url = 'https://brunch.co.kr'\n",
    "driver.get(base_url + test_url)"
   ]
  },
  {
   "cell_type": "code",
   "execution_count": null,
   "id": "7e71a37b",
   "metadata": {},
   "outputs": [],
   "source": [
    "# 소스코드 불러오기\n",
    "# Your Code"
   ]
  },
  {
   "cell_type": "code",
   "execution_count": null,
   "id": "18d48662",
   "metadata": {},
   "outputs": [],
   "source": [
    "# 드라이버 종료\n",
    "driver.quit()\n",
    "\n",
    "# 크롤링을 마치면 드라이버를 종료해주어 나의 컴퓨터 환경과 서버의 부하를 줄여주는 것이 좋습니다."
   ]
  },
  {
   "cell_type": "code",
   "execution_count": null,
   "id": "a08552ab",
   "metadata": {},
   "outputs": [],
   "source": [
    "# 세부 영역 지정하기\n",
    "article_body = #"
   ]
  },
  {
   "cell_type": "code",
   "execution_count": null,
   "id": "a4882b56",
   "metadata": {},
   "outputs": [],
   "source": [
    "# 세부 영역에 있는 아티클들 불러오기\n",
    "article_list = #\n",
    "test_article = article_list[0]"
   ]
  },
  {
   "cell_type": "code",
   "execution_count": null,
   "id": "95bbb2a7",
   "metadata": {},
   "outputs": [],
   "source": [
    "def get_content_info(soup):\n",
    "    article_url = #\n",
    "    title = #\n",
    "    sub_title = #\n",
    "    author = #\n",
    "    content = #\n",
    "    time = #\n",
    "    \n",
    "    data = [article_url, title, sub_title, author, content, time]\n",
    "    \n",
    "    return data"
   ]
  },
  {
   "cell_type": "code",
   "execution_count": null,
   "id": "f3ff0483",
   "metadata": {},
   "outputs": [],
   "source": [
    "# get_content_info 함수 테스트\n",
    "get_content_info(test_article)"
   ]
  },
  {
   "cell_type": "code",
   "execution_count": null,
   "id": "866751fe",
   "metadata": {},
   "outputs": [],
   "source": [
    "def get_content_url(drive, topic):\n",
    "    html = driver.page_source\n",
    "    soup = BeautifulSoup(html, 'html.parser')\n",
    "    \n",
    "    li_list = soup.find('ul', 'list_article list_common').find_all('li')\n",
    "    \n",
    "    return list(map(lambda x: get_content_info(x) + [topic], li_list))"
   ]
  },
  {
   "cell_type": "markdown",
   "id": "00025c33",
   "metadata": {},
   "source": [
    "## 스크롤 다운 및 크롤링 자동화"
   ]
  },
  {
   "cell_type": "code",
   "execution_count": null,
   "id": "250f013d",
   "metadata": {},
   "outputs": [],
   "source": [
    "s = Service('/Users/macair/Documents/chromedriver')\n",
    "# options = webdriver.ChromeOptions()\n",
    "# options.add_argument('--headless')\n",
    "# options.add_argument('--no-sandbox')\n",
    "# options.add_argument('--disable-dev-shm-usage')\n",
    "\n",
    "driver = webdriver.Chrome(service=s) # options = options\n",
    "driver.maximize_window()\n",
    "time.sleep(2)"
   ]
  },
  {
   "cell_type": "code",
   "execution_count": null,
   "id": "c6e1ea00",
   "metadata": {},
   "outputs": [],
   "source": [
    "test_url = df['토픽_URL'][0]\n",
    "base_url = 'https://brunch.co.kr'\n",
    "driver.get(base_url + test_url)"
   ]
  },
  {
   "cell_type": "code",
   "execution_count": null,
   "id": "9b524f52",
   "metadata": {},
   "outputs": [],
   "source": [
    "from selenium.webdriver.common.keys import Keys\n",
    "\n",
    "# 스크롤 다운 방법 (1)\n",
    "body = driver.find_element('css selector', 'body')\n",
    "body.send_keys(Keys.END)"
   ]
  },
  {
   "cell_type": "code",
   "execution_count": null,
   "id": "e22d8456",
   "metadata": {},
   "outputs": [],
   "source": [
    "# 스크롤 5번 내리기\n",
    "for rep in range(5):\n",
    "    body.send_keys(Keys.END)\n",
    "    time.sleep(1)"
   ]
  },
  {
   "cell_type": "code",
   "execution_count": null,
   "id": "ebdd3ca1",
   "metadata": {},
   "outputs": [],
   "source": [
    "# 스크롤 다운 방법 (2)\n",
    "\n",
    "start = time.time()\n",
    "last_height = driver.execute_script(\"return document.body.scrollHeight\")\n",
    "n = 0\n",
    "\n",
    "while n < 5:\n",
    "    driver.execute_script(\"window.scrollTo(0, document.body.scrollHeight);\")\n",
    "    time.sleep(1)  # 스크롤이 끝까지 내려가기를 기다리는 시간\n",
    "    new_height = driver.execute_script(\"return document.body.scrollHeight\")\n",
    "    if new_height == last_height:\n",
    "        break\n",
    "    last_height = new_height\n",
    "    n += 1\n",
    "    \n",
    "end = time.time()\n",
    "print(n, '번', end - start, '초 소요')"
   ]
  },
  {
   "cell_type": "code",
   "execution_count": null,
   "id": "f4610e8b",
   "metadata": {},
   "outputs": [],
   "source": [
    "content_list = []\n",
    "base_url = 'https://brunch.co.kr'\n",
    "\n",
    "# 시작 인덱스\n",
    "start_index = 0\n",
    "start_topic = topic_list[start_index].split('/')[-1]\n",
    "\n",
    "# 종료 인덱스\n",
    "end_index = 5\n",
    "end_topic = topic_list[end_index].split('/')[-1]\n",
    "\n",
    "# 로컬 환경에서 크롤링을 한 번에 끝내기는 어렵습니다.\n",
    "# 몇 번의 테스트 이후 부분부분 나누어 크롤링하고 저장하는 것을 권장합니다.\n",
    "\n",
    "# 반복문"
   ]
  },
  {
   "cell_type": "code",
   "execution_count": null,
   "id": "8f988295",
   "metadata": {},
   "outputs": [],
   "source": [
    "content_df = pd.DataFrame(content_list,\n",
    "                          columns = ['URL', '제목', '부제목', '작성자','콘텐츠', '작성일', '키워드'])\n",
    "content_df"
   ]
  },
  {
   "cell_type": "code",
   "execution_count": null,
   "id": "fb5ee6f9",
   "metadata": {},
   "outputs": [],
   "source": [
    "driver.quit()"
   ]
  },
  {
   "cell_type": "code",
   "execution_count": null,
   "id": "136409f7",
   "metadata": {},
   "outputs": [],
   "source": [
    "content_df.to_csv('Brunch 콘텐츠 URL_{start_topic}-{end_topic}.csv'.format(start_topic = start_topic, end_topic = end_topic),\n",
    "                  index = False)"
   ]
  }
 ],
 "metadata": {
  "kernelspec": {
   "display_name": "base",
   "language": "python",
   "name": "python3"
  },
  "language_info": {
   "codemirror_mode": {
    "name": "ipython",
    "version": 3
   },
   "file_extension": ".py",
   "mimetype": "text/x-python",
   "name": "python",
   "nbconvert_exporter": "python",
   "pygments_lexer": "ipython3",
   "version": "3.11.3 (main, Apr 19 2023, 18:49:55) [Clang 14.0.6 ]"
  },
  "vscode": {
   "interpreter": {
    "hash": "1da8bb1e470ff509bdae4e915df9bfc787d66424978116436e3017457e3e36c8"
   }
  }
 },
 "nbformat": 4,
 "nbformat_minor": 5
}
