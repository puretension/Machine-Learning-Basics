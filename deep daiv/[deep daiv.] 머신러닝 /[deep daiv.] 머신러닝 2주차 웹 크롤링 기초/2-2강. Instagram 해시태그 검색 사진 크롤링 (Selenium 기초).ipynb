{
 "cells": [
  {
   "cell_type": "markdown",
   "metadata": {},
   "source": [
    "# Instagram 해시태그 검색 사진 크롤링"
   ]
  },
  {
   "cell_type": "code",
   "execution_count": 2,
   "metadata": {
    "ExecuteTime": {
     "end_time": "2020-07-27T10:09:09.900872Z",
     "start_time": "2020-07-27T10:09:09.384907Z"
    }
   },
   "outputs": [],
   "source": [
    "from bs4 import BeautifulSoup\n",
    "import time\n",
    "\n",
    "from selenium import webdriver\n",
    "from selenium.webdriver.chrome.service import Service"
   ]
  },
  {
   "cell_type": "code",
   "execution_count": 3,
   "metadata": {
    "ExecuteTime": {
     "end_time": "2020-07-27T10:09:45.481614Z",
     "start_time": "2020-07-27T10:09:37.780251Z"
    }
   },
   "outputs": [],
   "source": [
    "# 자신의 드라이버 경로 지정하기\n",
    "s = Service('/Users/idohyeong/Documents/chromedriver')\n",
    "driver = webdriver.Chrome(service=s)\n",
    "time.sleep(2)\n",
    "\n",
    "# 윈도우 크기 조절\n",
    "driver.maximize_window()"
   ]
  },
  {
   "cell_type": "code",
   "execution_count": 4,
   "metadata": {
    "ExecuteTime": {
     "end_time": "2020-07-27T10:12:05.574526Z",
     "start_time": "2020-07-27T10:12:05.570288Z"
    }
   },
   "outputs": [],
   "source": [
    "# URL 만들기\n",
    "keyword = '고양이'\n",
    "url = 'https://www.instagram.com/explore/tags/' + keyword"
   ]
  },
  {
   "cell_type": "code",
   "execution_count": 5,
   "metadata": {
    "ExecuteTime": {
     "end_time": "2020-07-27T10:12:17.917871Z",
     "start_time": "2020-07-27T10:12:15.172821Z"
    }
   },
   "outputs": [],
   "source": [
    "# 인스타그램으로 이동\n",
    "driver.get(url)\n",
    "time.sleep(2)"
   ]
  },
  {
   "cell_type": "code",
   "execution_count": null,
   "metadata": {
    "ExecuteTime": {
     "end_time": "2020-07-27T10:26:03.435203Z",
     "start_time": "2020-07-27T10:26:03.302316Z"
    },
    "scrolled": true
   },
   "outputs": [],
   "source": [
    "# HTML 소스 코드 가지고 오기\n",
    "html = driver.page_source\n",
    "print(html)"
   ]
  },
  {
   "cell_type": "code",
   "execution_count": 7,
   "metadata": {
    "ExecuteTime": {
     "end_time": "2020-07-27T10:27:55.928949Z",
     "start_time": "2020-07-27T10:27:55.868973Z"
    }
   },
   "outputs": [],
   "source": [
    "# BeautifulSoup 소스 코드 입력\n",
    "soup = BeautifulSoup(html, 'lxml')"
   ]
  },
  {
   "cell_type": "code",
   "execution_count": 8,
   "metadata": {
    "ExecuteTime": {
     "end_time": "2020-07-27T10:29:53.125192Z",
     "start_time": "2020-07-27T10:29:53.111154Z"
    }
   },
   "outputs": [
    {
     "name": "stdout",
     "output_type": "stream",
     "text": [
      "https://scontent-ssn1-1.cdninstagram.com/v/t51.2885-15/366182010_661857099198360_3549497433308571378_n.heic?stp=dst-jpg_e35_s640x640_sh0.08&_nc_ht=scontent-ssn1-1.cdninstagram.com&_nc_cat=100&_nc_ohc=94qnl_MFw8UAX8VoZeo&edm=AOUPxh0BAAAA&ccb=7-5&oh=00_AfCL2qkDt3oQURR7kw1K3gfZYXg7pRExYMNyhJUKeYkZQg&oe=64D72C96&_nc_sid=9dc660\n"
     ]
    }
   ],
   "source": [
    "# 이미지 URL 찾기\n",
    "img_url = soup.main.find('img', attrs = {'crossorigin' : 'anonymous'}).get('src')\n",
    "print(img_url)"
   ]
  },
  {
   "cell_type": "code",
   "execution_count": 9,
   "metadata": {
    "ExecuteTime": {
     "end_time": "2020-07-27T10:30:18.216435Z",
     "start_time": "2020-07-27T10:30:18.210739Z"
    }
   },
   "outputs": [],
   "source": [
    "from urllib.request import urlretrieve"
   ]
  },
  {
   "cell_type": "code",
   "execution_count": 13,
   "metadata": {
    "ExecuteTime": {
     "end_time": "2020-07-27T10:30:19.987657Z",
     "start_time": "2020-07-27T10:30:19.395107Z"
    }
   },
   "outputs": [
    {
     "data": {
      "text/plain": [
       "('/Users/idohyeong/Desktop/instagram/고양이.jpg',\n",
       " <http.client.HTTPMessage at 0x10bd334d0>)"
      ]
     },
     "execution_count": 13,
     "metadata": {},
     "output_type": "execute_result"
    }
   ],
   "source": [
    "# 폴더에 사진 저장하기\n",
    "urlretrieve(img_url, filename='/Users/idohyeong/Desktop/instagram/' + keyword + '.jpg')\n",
    "\n",
    "#'instagram'이라는 파일명을 가진 폴더를 미리 만들어주세요"
   ]
  },
  {
   "cell_type": "code",
   "execution_count": 14,
   "metadata": {
    "ExecuteTime": {
     "end_time": "2020-07-27T10:31:47.119131Z",
     "start_time": "2020-07-27T10:31:46.985207Z"
    }
   },
   "outputs": [],
   "source": [
    "# BeautifulSoup 소스 코드 입력\n",
    "html = driver.page_source\n",
    "soup = BeautifulSoup(html,'lxml')"
   ]
  },
  {
   "cell_type": "code",
   "execution_count": 15,
   "metadata": {
    "ExecuteTime": {
     "end_time": "2020-07-27T10:32:03.767212Z",
     "start_time": "2020-07-27T10:32:03.757455Z"
    }
   },
   "outputs": [],
   "source": [
    "# 이미지 URL 리스트 찾기\n",
    "img_list = soup.main.find_all('img', attrs = {'crossorigin' : 'anonymous'})"
   ]
  },
  {
   "cell_type": "code",
   "execution_count": null,
   "metadata": {
    "ExecuteTime": {
     "end_time": "2020-07-27T10:32:19.688087Z",
     "start_time": "2020-07-27T10:32:19.679491Z"
    }
   },
   "outputs": [],
   "source": [
    "# 이미지 URL 리스트에서 이미지 URL만 가지고 오기\n",
    "img_url_list = []\n",
    "for img in img_list:\n",
    "    img_url = img.get('src')\n",
    "    img_url_list.append(img_url)\n",
    "    \n",
    "print(len(img_url_list), '개의 사진을 수집하였습니다.')"
   ]
  },
  {
   "cell_type": "code",
   "execution_count": null,
   "metadata": {},
   "outputs": [],
   "source": [
    "img_url_list"
   ]
  },
  {
   "cell_type": "code",
   "execution_count": 19,
   "metadata": {
    "ExecuteTime": {
     "end_time": "2020-07-27T10:32:46.266653Z",
     "start_time": "2020-07-27T10:32:24.546999Z"
    },
    "scrolled": true
   },
   "outputs": [],
   "source": [
    "# 폴더에 사진 저장하기\n",
    "n=1\n",
    "for img_url in img_url_list:\n",
    "    urlretrieve(img_url, filename='/Users/idohyeong/Desktop/instagram/' + keyword + str(n) +'.jpg')\n",
    "    time.sleep(1)\n",
    "    n += 1"
   ]
  },
  {
   "cell_type": "code",
   "execution_count": 20,
   "metadata": {
    "ExecuteTime": {
     "end_time": "2020-07-26T17:51:22.572655Z",
     "start_time": "2020-07-26T17:51:20.283715Z"
    }
   },
   "outputs": [],
   "source": [
    "driver.quit()"
   ]
  },
  {
   "cell_type": "code",
   "execution_count": null,
   "metadata": {},
   "outputs": [],
   "source": []
  }
 ],
 "metadata": {
  "kernelspec": {
   "display_name": "base",
   "language": "python",
   "name": "python3"
  },
  "language_info": {
   "codemirror_mode": {
    "name": "ipython",
    "version": 3
   },
   "file_extension": ".py",
   "mimetype": "text/x-python",
   "name": "python",
   "nbconvert_exporter": "python",
   "pygments_lexer": "ipython3",
   "version": "3.11.3"
  },
  "vscode": {
   "interpreter": {
    "hash": "1da8bb1e470ff509bdae4e915df9bfc787d66424978116436e3017457e3e36c8"
   }
  }
 },
 "nbformat": 4,
 "nbformat_minor": 2
}
