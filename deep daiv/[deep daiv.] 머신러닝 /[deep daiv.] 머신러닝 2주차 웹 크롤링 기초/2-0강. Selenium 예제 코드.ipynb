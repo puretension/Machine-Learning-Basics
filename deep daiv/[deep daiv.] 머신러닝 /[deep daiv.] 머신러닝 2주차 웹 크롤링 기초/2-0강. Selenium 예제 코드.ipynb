{
 "cells": [
  {
   "cell_type": "code",
   "execution_count": 1,
   "id": "2924eb58",
   "metadata": {},
   "outputs": [],
   "source": [
    "from bs4 import BeautifulSoup\n",
    "import time\n",
    "\n",
    "from selenium import webdriver\n",
    "from selenium.webdriver.chrome.service import Service"
   ]
  },
  {
   "cell_type": "code",
   "execution_count": 2,
   "id": "edbd6972",
   "metadata": {},
   "outputs": [],
   "source": [
    "# 자신의 드라이버 경로 지정하기\n",
    "s = Service('/Users/idohyeong/Documents/chromedriver')\n",
    "driver = webdriver.Chrome(service=s)\n",
    "time.sleep(2)\n",
    "\n",
    "# 윈도우 크기 조절\n",
    "driver.maximize_window()"
   ]
  },
  {
   "cell_type": "code",
   "execution_count": 3,
   "id": "c4febcf4",
   "metadata": {},
   "outputs": [],
   "source": [
    "url = 'https://www.naver.com'\n",
    "driver.get(url)"
   ]
  },
  {
   "cell_type": "code",
   "execution_count": 4,
   "id": "f14aeb4a",
   "metadata": {},
   "outputs": [
    {
     "data": {
      "text/plain": [
       "<selenium.webdriver.remote.webelement.WebElement (session=\"3bcfe7cc3c12f90ad625343b7162155f\", element=\"309AD6C4F14246ACEBCC7E87FAADE858_element_12\")>"
      ]
     },
     "execution_count": 4,
     "metadata": {},
     "output_type": "execute_result"
    }
   ],
   "source": [
    "driver.find_element(by = 'xpath', value = '//*[@id=\"query\"]')"
   ]
  },
  {
   "cell_type": "code",
   "execution_count": 5,
   "id": "e0a35eff",
   "metadata": {},
   "outputs": [],
   "source": [
    "query = driver.find_element(by = 'xpath', value = '//*[@id=\"query\"]')\n",
    "query.send_keys('AI')"
   ]
  },
  {
   "cell_type": "code",
   "execution_count": 6,
   "id": "ce7e9154",
   "metadata": {},
   "outputs": [],
   "source": [
    "btn = driver.find_element(by = 'xpath', value = '//*[@id=\"search-btn\"]')\n",
    "btn.click()"
   ]
  },
  {
   "cell_type": "code",
   "execution_count": 7,
   "id": "ed2bf192",
   "metadata": {},
   "outputs": [],
   "source": [
    "news_tab = driver.find_element(by = 'xpath', value = '//*[@id=\"lnb\"]/div[1]/div/ul/li[3]/a')\n",
    "news_tab.click()"
   ]
  },
  {
   "cell_type": "code",
   "execution_count": null,
   "id": "43443e05",
   "metadata": {},
   "outputs": [],
   "source": [
    "html = driver.page_source\n",
    "print(html)"
   ]
  }
 ],
 "metadata": {
  "kernelspec": {
   "display_name": "base",
   "language": "python",
   "name": "python3"
  },
  "language_info": {
   "codemirror_mode": {
    "name": "ipython",
    "version": 3
   },
   "file_extension": ".py",
   "mimetype": "text/x-python",
   "name": "python",
   "nbconvert_exporter": "python",
   "pygments_lexer": "ipython3",
   "version": "3.11.3 (main, Apr 19 2023, 18:49:55) [Clang 14.0.6 ]"
  },
  "vscode": {
   "interpreter": {
    "hash": "1da8bb1e470ff509bdae4e915df9bfc787d66424978116436e3017457e3e36c8"
   }
  }
 },
 "nbformat": 4,
 "nbformat_minor": 5
}
