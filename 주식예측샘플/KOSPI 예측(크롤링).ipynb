{
 "cells": [
  {
   "cell_type": "code",
   "execution_count": 1,
   "metadata": {},
   "outputs": [],
   "source": [
    "import pandas_datareader as wb\n",
    "import pandas as pd\n",
    "import datetime\n",
    "import matplotlib.pyplot as plt"
   ]
  },
  {
   "cell_type": "code",
   "execution_count": 10,
   "metadata": {},
   "outputs": [
    {
     "name": "stdout",
     "output_type": "stream",
     "text": [
      "[*********************100%***********************]  1 of 1 completed\n"
     ]
    },
    {
     "name": "stderr",
     "output_type": "stream",
     "text": [
      "/var/folders/lq/yg0pscr5437892j00_r823f40000gn/T/ipykernel_2682/3334480872.py:24: SettingWithCopyWarning: \n",
      "A value is trying to be set on a copy of a slice from a DataFrame\n",
      "\n",
      "See the caveats in the documentation: https://pandas.pydata.org/pandas-docs/stable/user_guide/indexing.html#returning-a-view-versus-a-copy\n",
      "  df['Price'][i] = 0\n",
      "/var/folders/lq/yg0pscr5437892j00_r823f40000gn/T/ipykernel_2682/3334480872.py:22: SettingWithCopyWarning: \n",
      "A value is trying to be set on a copy of a slice from a DataFrame\n",
      "\n",
      "See the caveats in the documentation: https://pandas.pydata.org/pandas-docs/stable/user_guide/indexing.html#returning-a-view-versus-a-copy\n",
      "  df['Price'][i] = 1\n"
     ]
    }
   ],
   "source": [
    "import pandas_datareader as wb\n",
    "import pandas as pd\n",
    "import datetime\n",
    "import matplotlib.pyplot as plt\n",
    "import yfinance as yf\n",
    "\n",
    "pd.set_option('display.precision', 4)\n",
    "\n",
    "\n",
    "# 코스피 지수 크롤링\n",
    "start = datetime.datetime(2019, 8, 1)\n",
    "end = datetime.datetime.now().date()\n",
    "\n",
    "df_null = yf.download(\"^KS11\", start=start, end=end)     # ^KS11 : 코스피\n",
    "df = df_null.dropna()                                  # 결측치 제거\n",
    "\n",
    "# 새로운 칼럼 생성\n",
    "# (Price : 당일 대비 다음날 주가가 상승했으면 1, 하락했으면 0 표시)\n",
    "df['Price'] = 0\n",
    "for i in range(0, 120):\n",
    "    if df['Close'][i] < df['Close'][i+1]:\n",
    "        df['Price'][i] = 1\n",
    "    else:\n",
    "        df['Price'][i] = 0\n",
    "df\n",
    "\n",
    "\n",
    "# 'kospi_주가데이터.xlsx' 이름으로 파일 저장\n",
    "df.to_csv('kospi_주가데이터.csv')"
   ]
  },
  {
   "cell_type": "code",
   "execution_count": null,
   "metadata": {},
   "outputs": [],
   "source": [
    "price_data = pd.read_csv('kospi_주가데이터.csv')\n",
    "df_0 = price_data[price_data['Price']==0]['Date']\n",
    "\n",
    "date_0 = []\n",
    "for i in range(0,len(df_0)):\n",
    "    date_0.append(str(df_0.tolist()[i])[:10].replace('-',''))\n",
    "date_0"
   ]
  },
  {
   "cell_type": "code",
   "execution_count": 12,
   "metadata": {},
   "outputs": [
    {
     "data": {
      "text/plain": [
       "['20190807',\n",
       " '20190808',\n",
       " '20190809',\n",
       " '20190813',\n",
       " '20190816',\n",
       " '20190819',\n",
       " '20190820',\n",
       " '20190826',\n",
       " '20190827',\n",
       " '20190829',\n",
       " '20190830',\n",
       " '20190903',\n",
       " '20190904',\n",
       " '20190905',\n",
       " '20190906',\n",
       " '20190909',\n",
       " '20190910',\n",
       " '20190911',\n",
       " '20190916',\n",
       " '20190917',\n",
       " '20190918',\n",
       " '20190919',\n",
       " '20190920',\n",
       " '20190923',\n",
       " '20190925',\n",
       " '20190927',\n",
       " '20190930',\n",
       " '20191004',\n",
       " '20191007',\n",
       " '20191010',\n",
       " '20191011',\n",
       " '20191014',\n",
       " '20191015',\n",
       " '20191018',\n",
       " '20191021',\n",
       " '20191023',\n",
       " '20191024',\n",
       " '20191025',\n",
       " '20191030',\n",
       " '20191031',\n",
       " '20191101',\n",
       " '20191104',\n",
       " '20191105',\n",
       " '20191106',\n",
       " '20191111',\n",
       " '20191113',\n",
       " '20191114',\n",
       " '20191121',\n",
       " '20191122',\n",
       " '20191126',\n",
       " '20191129',\n",
       " '20191205',\n",
       " '20191206',\n",
       " '20191209',\n",
       " '20191210',\n",
       " '20191211',\n",
       " '20191212',\n",
       " '20191216',\n",
       " '20191218',\n",
       " '20191219',\n",
       " '20191224',\n",
       " '20191226',\n",
       " '20200102',\n",
       " '20200106',\n",
       " '20200108',\n",
       " '20200109',\n",
       " '20200110',\n",
       " '20200113',\n",
       " '20200115',\n",
       " '20200116',\n",
       " '20200117',\n",
       " '20200121',\n",
       " '20200128']"
      ]
     },
     "execution_count": 12,
     "metadata": {},
     "output_type": "execute_result"
    }
   ],
   "source": [
    "df_1 = price_data[price_data['Price']==1]['Date']\n",
    "\n",
    "date_1 = []\n",
    "for i in range(0,len(df_1)):\n",
    "    date_1.append(str(df_1.tolist()[i])[:10].replace('-',''))\n",
    "date_1"
   ]
  },
  {
   "cell_type": "code",
   "execution_count": 15,
   "metadata": {},
   "outputs": [],
   "source": [
    "result_list = []\n",
    "error_cnt = 0\n",
    "\n",
    "def naver_news_title(dates):\n",
    "    base_url = 'https://news.naver.com/main/ranking/popularDay.nhn?rankingType=popular_day&sectionId=101&date={}'\n",
    "    headers = {\n",
    "        'User-Agent':'Mozilla/5.0 (Windows NT 10.0; Win64; x64) AppleWebKit/537.36 (KHTML, like Gecko) Chrome/84.0.4147.89 Safari/537.36'\n",
    "    }\n",
    "    \n",
    "    for date in dates:\n",
    "        url = base_url.format(date)\n",
    "        res = requests.get(url, headers=headers)\n",
    "        if res.status_code == 200:\n",
    "            soup = BeautifulSoup(res.text)\n",
    "            title_list = soup.select('ol.ranking_list li')\n",
    "            for title in title_list:\n",
    "                try:\n",
    "                    news_title = title.select_one('div.ranking_headline').text.strip()\n",
    "                    result_list.append([news_title])\n",
    "                except:\n",
    "                    error_cnt += 1\n"
   ]
  },
  {
   "cell_type": "code",
   "execution_count": 16,
   "metadata": {},
   "outputs": [],
   "source": [
    "naver_news_title(date_0)"
   ]
  }
 ],
 "metadata": {
  "kernelspec": {
   "display_name": "base",
   "language": "python",
   "name": "python3"
  },
  "language_info": {
   "codemirror_mode": {
    "name": "ipython",
    "version": 3
   },
   "file_extension": ".py",
   "mimetype": "text/x-python",
   "name": "python",
   "nbconvert_exporter": "python",
   "pygments_lexer": "ipython3",
   "version": "3.11.3"
  },
  "orig_nbformat": 4,
  "vscode": {
   "interpreter": {
    "hash": "1da8bb1e470ff509bdae4e915df9bfc787d66424978116436e3017457e3e36c8"
   }
  }
 },
 "nbformat": 4,
 "nbformat_minor": 2
}
