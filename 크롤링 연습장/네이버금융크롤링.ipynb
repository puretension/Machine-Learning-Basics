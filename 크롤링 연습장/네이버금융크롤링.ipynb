{
 "cells": [
  {
   "attachments": {},
   "cell_type": "markdown",
   "metadata": {},
   "source": [
    "### 재무상태는 확인하자 \n",
    "#### WHY?\n",
    "- 회사 수익의 안정성, 저평가되어 있는지 수치로 확인 가능함\n",
    "\n",
    "## 4가지 재무지표\n",
    "- ### PER\n",
    "- 주가수익비율\n",
    "- 주가가 회사 1주당 수익의 몇배가 되는지 나타내는 지표\n",
    "- 낮을수록 저평가\n",
    "- 보통 10이하가 좋다(물론 -는 적자)\n",
    "\n",
    "- ### ROE\n",
    "- 자기자본이익률\n",
    "- 순자산대비 얼마나 많은돈을 벌고 있는지 나타내는 지표\n",
    "- 15% 이상이 좋다\n",
    "\n",
    "- ### PBR\n",
    "- 주가순자산비율\n",
    "- 낮을수록 저평가\n",
    "- 1이하가 좋다\n",
    "\n",
    "- ### 유보율\n",
    "- 잉여금/자본금\n",
    "- 유보율이 높다 == 잉여금이 많다(재무가 탄탄하다)\n",
    "- 높을수록 좋다\n"
   ]
  },
  {
   "attachments": {},
   "cell_type": "markdown",
   "metadata": {},
   "source": [
    "### 조건: requests만 사용(Selenium X), 결측치 제거 "
   ]
  },
  {
   "attachments": {},
   "cell_type": "markdown",
   "metadata": {},
   "source": [
    "### 1. 데이터 수집하기"
   ]
  },
  {
   "cell_type": "code",
   "execution_count": null,
   "metadata": {},
   "outputs": [],
   "source": [
    "import requests\n",
    "from bs4 import BeautifulSoup\n",
    "\n",
    "# decoded url\n",
    "url = 'https://finance.naver.com/sise/field_submit.naver?menu=market_sum&returnUrl=http://finance.naver.com/sise/sise_market_sum.naver?&page=&fieldIds=per&fieldIds=roe&fieldIds=pbr&fieldIds=reserve_ratio'\n",
    "\n",
    "resp = requests.get(url)\n",
    "html = resp.text\n",
    "soup = BeautifulSoup(html, 'html.parser')\n",
    "\n",
    "ㄴ"
   ]
  }
 ],
 "metadata": {
  "language_info": {
   "name": "python"
  },
  "orig_nbformat": 4
 },
 "nbformat": 4,
 "nbformat_minor": 2
}
