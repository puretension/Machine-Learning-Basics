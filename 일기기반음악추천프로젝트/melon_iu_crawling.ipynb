{
 "cells": [
  {
   "cell_type": "code",
   "execution_count": 30,
   "metadata": {},
   "outputs": [],
   "source": [
    "import requests as req\n",
    "from bs4 import BeautifulSoup as bs\n",
    "import pandas as pd\n",
    "from selenium import webdriver\n",
    "from selenium.webdriver.common.by import By\n",
    "from selenium.webdriver.common.keys import Keys\n",
    "\n",
    "h = {\"User-Agent\": \"Mozilla/5.0...\"}\n",
    "\n",
    "res = req.get('https://www.melon.com/mymusic/dj/mymusicdjplaylistview_inform.htm?plylstSeq=494499914', headers = h)\n",
    "\n",
    "res.text # html\n",
    "\n",
    "soup = bs(res.text, 'lxml')\n",
    "\n",
    "# 노래제목\n",
    "song = soup.select('div.ellipsis.rank01 >span >a')\n",
    "\n",
    "# 노래가수\n",
    "singer = soup.select('div.ellipsis.rank02 >a')\n",
    "\n",
    "# `.button_etc.like` 클래스를 가진 모든 <button> 태그를 선택\n",
    "buttons = soup.select('button.button_etc.like')\n",
    "\n",
    "# 첫 번째와 마지막 두 개의 태그를 제외\n",
    "selected_buttons = buttons[1:-2]\n",
    "\n",
    "# 남은 태그들에서 `data-song-no` 속성의 값을 추출\n",
    "song_numbers = [btn['data-song-no'] for btn in selected_buttons]\n",
    "\n",
    "\n",
    "\n",
    "songList = []\n",
    "singerList = []\n",
    "songNumList = []\n",
    "rankList = []\n",
    "\n",
    "for i in range(len(song)):\n",
    "    songList.append(song[i].text)\n",
    "    singerList.append(singer[i].text)\n",
    "    songNumList.append(song_numbers[i])\n",
    "    rankList.append(i+1)\n",
    "\n",
    "import pandas as pd\n",
    "dic = {'번호':rankList,'제목': songList, '가수':singerList, '곡코드번호':songNumList}\n",
    "melon = pd.DataFrame(dic)\n",
    "\n",
    "melon.set_index('번호', inplace=True)\n",
    "\n",
    "melon.to_csv('아이유신나는곡들.csv', encoding='utf-8')\n",
    "\n",
    "\n"
   ]
  },
  {
   "cell_type": "code",
   "execution_count": 32,
   "metadata": {},
   "outputs": [],
   "source": [
    "from selenium import webdriver\n",
    "from selenium.webdriver.common.by import By\n",
    "from selenium.webdriver.common.keys import Keys\n",
    "import pandas as pd\n",
    "\n",
    "melon = pd.read_csv('아이유신나는곡들.csv', index_col='번호')\n",
    "\n",
    "browser = webdriver.Chrome()  \n",
    "\n",
    "lyricsList = []\n",
    "\n",
    "for num in melon['곡코드번호']:\n",
    "    browser.get(f'https://www.melon.com/song/detail.htm?songId={num}')\n",
    "    lyric = browser.find_element(By.CLASS_NAME, \"lyric\")\n",
    "    lyricsList.append(lyric.text)\n",
    "\n",
    "browser.quit()\n",
    "\n",
    "melon[\"가사\"] = lyricsList\n",
    "\n",
    "melon.to_csv('아이유_곡_가사.csv', encoding='utf-8')\n"
   ]
  }
 ],
 "metadata": {
  "kernelspec": {
   "display_name": "base",
   "language": "python",
   "name": "python3"
  },
  "language_info": {
   "codemirror_mode": {
    "name": "ipython",
    "version": 3
   },
   "file_extension": ".py",
   "mimetype": "text/x-python",
   "name": "python",
   "nbconvert_exporter": "python",
   "pygments_lexer": "ipython3",
   "version": "3.11.3"
  },
  "orig_nbformat": 4,
  "vscode": {
   "interpreter": {
    "hash": "1da8bb1e470ff509bdae4e915df9bfc787d66424978116436e3017457e3e36c8"
   }
  }
 },
 "nbformat": 4,
 "nbformat_minor": 2
}
